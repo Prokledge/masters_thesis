{
  "cells": [
    {
      "cell_type": "code",
      "source": [
        "gpu_info = !nvidia-smi\n",
        "gpu_info = '\\n'.join(gpu_info)\n",
        "if gpu_info.find('failed') >= 0:\n",
        "  print('Not connected to a GPU')\n",
        "else:\n",
        "  print(gpu_info)"
      ],
      "metadata": {
        "colab": {
          "base_uri": "https://localhost:8080/"
        },
        "id": "BDkjbDMxGtCV",
        "outputId": "d8bc3c5c-6203-4c90-ea3f-c9cb79e4ab44"
      },
      "execution_count": null,
      "outputs": [
        {
          "output_type": "stream",
          "name": "stdout",
          "text": [
            "Mon Sep 11 11:05:47 2023       \n",
            "+-----------------------------------------------------------------------------+\n",
            "| NVIDIA-SMI 525.105.17   Driver Version: 525.105.17   CUDA Version: 12.0     |\n",
            "|-------------------------------+----------------------+----------------------+\n",
            "| GPU  Name        Persistence-M| Bus-Id        Disp.A | Volatile Uncorr. ECC |\n",
            "| Fan  Temp  Perf  Pwr:Usage/Cap|         Memory-Usage | GPU-Util  Compute M. |\n",
            "|                               |                      |               MIG M. |\n",
            "|===============================+======================+======================|\n",
            "|   0  Tesla V100-SXM2...  Off  | 00000000:00:04.0 Off |                    0 |\n",
            "| N/A   40C    P0    27W / 300W |      0MiB / 16384MiB |      0%      Default |\n",
            "|                               |                      |                  N/A |\n",
            "+-------------------------------+----------------------+----------------------+\n",
            "                                                                               \n",
            "+-----------------------------------------------------------------------------+\n",
            "| Processes:                                                                  |\n",
            "|  GPU   GI   CI        PID   Type   Process name                  GPU Memory |\n",
            "|        ID   ID                                                   Usage      |\n",
            "|=============================================================================|\n",
            "|  No running processes found                                                 |\n",
            "+-----------------------------------------------------------------------------+\n"
          ]
        }
      ]
    },
    {
      "cell_type": "markdown",
      "source": [
        "#August - 2023"
      ],
      "metadata": {
        "id": "g9dlrkLowJpa"
      }
    },
    {
      "cell_type": "code",
      "execution_count": null,
      "metadata": {
        "id": "94Fdr-lt6wGv",
        "colab": {
          "base_uri": "https://localhost:8080/"
        },
        "outputId": "606c0d61-50c6-482a-b75f-3e0add3324c5"
      },
      "outputs": [
        {
          "output_type": "stream",
          "name": "stdout",
          "text": [
            "Cloning into 'rapidsai-csp-utils'...\n",
            "remote: Enumerating objects: 390, done.\u001b[K\n",
            "remote: Counting objects: 100% (121/121), done.\u001b[K\n",
            "remote: Compressing objects: 100% (70/70), done.\u001b[K\n",
            "remote: Total 390 (delta 89), reused 51 (delta 51), pack-reused 269\u001b[K\n",
            "Receiving objects: 100% (390/390), 107.11 KiB | 6.69 MiB/s, done.\n",
            "Resolving deltas: 100% (191/191), done.\n",
            "Collecting pynvml\n",
            "  Downloading pynvml-11.5.0-py3-none-any.whl (53 kB)\n",
            "     ━━━━━━━━━━━━━━━━━━━━━━━━━━━━━━━━━━━━━━━━ 53.1/53.1 kB 1.7 MB/s eta 0:00:00\n",
            "Installing collected packages: pynvml\n",
            "Successfully installed pynvml-11.5.0\n",
            "***********************************************************************\n",
            "Woo! Your instance has the right kind of GPU, a Tesla V100-SXM2-16GB!\n",
            "We will now install RAPIDS cuDF, cuML, and cuGraph via pip! \n",
            "Please stand by, should be quick...\n",
            "***********************************************************************\n",
            "\n",
            "Looking in indexes: https://pypi.org/simple, https://pypi.nvidia.com\n",
            "Collecting cudf-cu11\n",
            "  Downloading https://pypi.nvidia.com/cudf-cu11/cudf_cu11-23.8.0-cp310-cp310-manylinux_2_17_x86_64.manylinux2014_x86_64.whl (499.6 MB)\n",
            "     ━━━━━━━━━━━━━━━━━━━━━━━━━━━━━━━━━━━━━━━ 499.6/499.6 MB 2.9 MB/s eta 0:00:00\n",
            "Collecting cuml-cu11\n",
            "  Downloading https://pypi.nvidia.com/cuml-cu11/cuml_cu11-23.8.0-cp310-cp310-manylinux_2_17_x86_64.manylinux2014_x86_64.whl (1081.6 MB)\n",
            "     ━━━━━━━━━━━━━━━━━━━━━━━━━━━━━━━━━━━━━━━━ 1.1/1.1 GB 415.0 kB/s eta 0:00:00\n",
            "Collecting cugraph-cu11\n",
            "  Downloading https://pypi.nvidia.com/cugraph-cu11/cugraph_cu11-23.8.0-cp310-cp310-manylinux_2_17_x86_64.manylinux2014_x86_64.whl (1212.4 MB)\n",
            "     ━━━━━━━━━━━━━━━━━━━━━━━━━━━━━━━━━━━━━━━━ 1.2/1.2 GB 390.5 kB/s eta 0:00:00\n",
            "Requirement already satisfied: aiohttp in /usr/local/lib/python3.10/dist-packages (3.8.5)\n",
            "Requirement already satisfied: cachetools in /usr/local/lib/python3.10/dist-packages (from cudf-cu11) (5.3.1)\n",
            "Collecting cubinlinker-cu11 (from cudf-cu11)\n",
            "  Downloading https://pypi.nvidia.com/cubinlinker-cu11/cubinlinker_cu11-0.3.0.post1-cp310-cp310-manylinux_2_17_x86_64.manylinux2014_x86_64.whl (8.8 MB)\n",
            "     ━━━━━━━━━━━━━━━━━━━━━━━━━━━━━━━━━━━━━━━━ 8.8/8.8 MB 85.9 MB/s eta 0:00:00\n",
            "Collecting cuda-python<12.0a0,>=11.7.1 (from cudf-cu11)\n",
            "  Downloading cuda_python-11.8.2-cp310-cp310-manylinux_2_17_x86_64.manylinux2014_x86_64.whl (16.5 MB)\n",
            "     ━━━━━━━━━━━━━━━━━━━━━━━━━━━━━━━━━━━━━━━━ 16.5/16.5 MB 37.2 MB/s eta 0:00:00\n",
            "Collecting cupy-cuda11x>=12.0.0 (from cudf-cu11)\n",
            "  Downloading cupy_cuda11x-12.2.0-cp310-cp310-manylinux2014_x86_64.whl (89.6 MB)\n",
            "     ━━━━━━━━━━━━━━━━━━━━━━━━━━━━━━━━━━━━━━━━ 89.6/89.6 MB 2.2 MB/s eta 0:00:00\n",
            "Requirement already satisfied: fsspec>=0.6.0 in /usr/local/lib/python3.10/dist-packages (from cudf-cu11) (2023.6.0)\n",
            "Collecting numba>=0.57 (from cudf-cu11)\n",
            "  Downloading numba-0.57.1-cp310-cp310-manylinux2014_x86_64.manylinux_2_17_x86_64.whl (3.6 MB)\n",
            "     ━━━━━━━━━━━━━━━━━━━━━━━━━━━━━━━━━━━━━━━━ 3.6/3.6 MB 95.2 MB/s eta 0:00:00\n",
            "Requirement already satisfied: numpy>=1.21 in /usr/local/lib/python3.10/dist-packages (from cudf-cu11) (1.23.5)\n",
            "Collecting nvtx>=0.2.1 (from cudf-cu11)\n",
            "  Downloading nvtx-0.2.8-cp310-cp310-manylinux_2_17_x86_64.manylinux2014_x86_64.whl (582 kB)\n",
            "     ━━━━━━━━━━━━━━━━━━━━━━━━━━━━━━━━━━━━━━ 582.4/582.4 kB 51.4 MB/s eta 0:00:00\n",
            "Requirement already satisfied: packaging in /usr/local/lib/python3.10/dist-packages (from cudf-cu11) (23.1)\n",
            "Requirement already satisfied: pandas<1.6.0dev0,>=1.3 in /usr/local/lib/python3.10/dist-packages (from cudf-cu11) (1.5.3)\n",
            "Collecting protobuf<5,>=4.21 (from cudf-cu11)\n",
            "  Downloading protobuf-4.24.3-cp37-abi3-manylinux2014_x86_64.whl (311 kB)\n",
            "     ━━━━━━━━━━━━━━━━━━━━━━━━━━━━━━━━━━━━━━ 311.6/311.6 kB 34.4 MB/s eta 0:00:00\n",
            "Collecting ptxcompiler-cu11 (from cudf-cu11)\n",
            "  Downloading https://pypi.nvidia.com/ptxcompiler-cu11/ptxcompiler_cu11-0.7.0.post1-cp310-cp310-manylinux_2_17_x86_64.manylinux2014_x86_64.whl (8.8 MB)\n",
            "     ━━━━━━━━━━━━━━━━━━━━━━━━━━━━━━━━━━━━━━━━ 8.8/8.8 MB 109.4 MB/s eta 0:00:00\n",
            "Collecting pyarrow==11.* (from cudf-cu11)\n",
            "  Downloading pyarrow-11.0.0-cp310-cp310-manylinux_2_17_x86_64.manylinux2014_x86_64.whl (34.9 MB)\n",
            "     ━━━━━━━━━━━━━━━━━━━━━━━━━━━━━━━━━━━━━━━━ 34.9/34.9 MB 21.0 MB/s eta 0:00:00\n",
            "Collecting rmm-cu11==23.8.* (from cudf-cu11)\n",
            "  Downloading https://pypi.nvidia.com/rmm-cu11/rmm_cu11-23.8.0-cp310-cp310-manylinux_2_17_x86_64.manylinux2014_x86_64.whl (1.7 MB)\n",
            "     ━━━━━━━━━━━━━━━━━━━━━━━━━━━━━━━━━━━━━━━━ 1.7/1.7 MB 83.3 MB/s eta 0:00:00\n",
            "Requirement already satisfied: typing-extensions>=4.0.0 in /usr/local/lib/python3.10/dist-packages (from cudf-cu11) (4.5.0)\n",
            "Collecting dask-cuda==23.8.* (from cuml-cu11)\n",
            "  Downloading dask_cuda-23.8.0-py3-none-any.whl (122 kB)\n",
            "     ━━━━━━━━━━━━━━━━━━━━━━━━━━━━━━━━━━━━━━ 122.0/122.0 kB 14.9 MB/s eta 0:00:00\n",
            "Collecting dask-cudf-cu11==23.8.* (from cuml-cu11)\n",
            "  Downloading https://pypi.nvidia.com/dask-cudf-cu11/dask_cudf_cu11-23.8.0-py3-none-any.whl (81 kB)\n",
            "     ━━━━━━━━━━━━━━━━━━━━━━━━━━━━━━━━━━━━━━━━ 81.6/81.6 kB 10.9 MB/s eta 0:00:00\n",
            "Collecting dask==2023.7.1 (from cuml-cu11)\n",
            "  Downloading dask-2023.7.1-py3-none-any.whl (1.2 MB)\n",
            "     ━━━━━━━━━━━━━━━━━━━━━━━━━━━━━━━━━━━━━━━━ 1.2/1.2 MB 74.4 MB/s eta 0:00:00\n",
            "Collecting distributed==2023.7.1 (from cuml-cu11)\n",
            "  Downloading distributed-2023.7.1-py3-none-any.whl (985 kB)\n",
            "     ━━━━━━━━━━━━━━━━━━━━━━━━━━━━━━━━━━━━━━ 985.5/985.5 kB 69.1 MB/s eta 0:00:00\n",
            "Requirement already satisfied: joblib>=0.11 in /usr/local/lib/python3.10/dist-packages (from cuml-cu11) (1.3.2)\n",
            "Collecting raft-dask-cu11==23.8.* (from cuml-cu11)\n",
            "  Downloading https://pypi.nvidia.com/raft-dask-cu11/raft_dask_cu11-23.8.0-cp310-cp310-manylinux_2_17_x86_64.manylinux2014_x86_64.whl (214.7 MB)\n",
            "     ━━━━━━━━━━━━━━━━━━━━━━━━━━━━━━━━━━━━━━━ 214.7/214.7 MB 6.6 MB/s eta 0:00:00\n",
            "Requirement already satisfied: scipy>=1.8.0 in /usr/local/lib/python3.10/dist-packages (from cuml-cu11) (1.10.1)\n",
            "Collecting treelite==3.2.0 (from cuml-cu11)\n",
            "  Downloading treelite-3.2.0-py3-none-manylinux2014_x86_64.whl (1.0 MB)\n",
            "     ━━━━━━━━━━━━━━━━━━━━━━━━━━━━━━━━━━━━━━━━ 1.0/1.0 MB 70.3 MB/s eta 0:00:00\n",
            "Collecting treelite-runtime==3.2.0 (from cuml-cu11)\n",
            "  Downloading treelite_runtime-3.2.0-py3-none-manylinux2014_x86_64.whl (198 kB)\n",
            "     ━━━━━━━━━━━━━━━━━━━━━━━━━━━━━━━━━━━━━━ 198.2/198.2 kB 24.0 MB/s eta 0:00:00\n",
            "Requirement already satisfied: click>=8.0 in /usr/local/lib/python3.10/dist-packages (from dask==2023.7.1->cuml-cu11) (8.1.7)\n",
            "Requirement already satisfied: cloudpickle>=1.5.0 in /usr/local/lib/python3.10/dist-packages (from dask==2023.7.1->cuml-cu11) (2.2.1)\n",
            "Requirement already satisfied: partd>=1.2.0 in /usr/local/lib/python3.10/dist-packages (from dask==2023.7.1->cuml-cu11) (1.4.0)\n",
            "Requirement already satisfied: pyyaml>=5.3.1 in /usr/local/lib/python3.10/dist-packages (from dask==2023.7.1->cuml-cu11) (6.0.1)\n",
            "Requirement already satisfied: toolz>=0.10.0 in /usr/local/lib/python3.10/dist-packages (from dask==2023.7.1->cuml-cu11) (0.12.0)\n",
            "Requirement already satisfied: importlib-metadata>=4.13.0 in /usr/local/lib/python3.10/dist-packages (from dask==2023.7.1->cuml-cu11) (6.8.0)\n",
            "Collecting pynvml<11.5,>=11.0.0 (from dask-cuda==23.8.*->cuml-cu11)\n",
            "  Downloading pynvml-11.4.1-py3-none-any.whl (46 kB)\n",
            "     ━━━━━━━━━━━━━━━━━━━━━━━━━━━━━━━━━━━━━━━━ 47.0/47.0 kB 5.4 MB/s eta 0:00:00\n",
            "Requirement already satisfied: zict>=2.0.0 in /usr/local/lib/python3.10/dist-packages (from dask-cuda==23.8.*->cuml-cu11) (3.0.0)\n",
            "Requirement already satisfied: jinja2>=2.10.3 in /usr/local/lib/python3.10/dist-packages (from distributed==2023.7.1->cuml-cu11) (3.1.2)\n",
            "Requirement already satisfied: locket>=1.0.0 in /usr/local/lib/python3.10/dist-packages (from distributed==2023.7.1->cuml-cu11) (1.0.0)\n",
            "Requirement already satisfied: msgpack>=1.0.0 in /usr/local/lib/python3.10/dist-packages (from distributed==2023.7.1->cuml-cu11) (1.0.5)\n",
            "Requirement already satisfied: psutil>=5.7.2 in /usr/local/lib/python3.10/dist-packages (from distributed==2023.7.1->cuml-cu11) (5.9.5)\n",
            "Requirement already satisfied: sortedcontainers>=2.0.5 in /usr/local/lib/python3.10/dist-packages (from distributed==2023.7.1->cuml-cu11) (2.4.0)\n",
            "Requirement already satisfied: tblib>=1.6.0 in /usr/local/lib/python3.10/dist-packages (from distributed==2023.7.1->cuml-cu11) (2.0.0)\n",
            "Requirement already satisfied: tornado>=6.0.4 in /usr/local/lib/python3.10/dist-packages (from distributed==2023.7.1->cuml-cu11) (6.3.2)\n",
            "Requirement already satisfied: urllib3>=1.24.3 in /usr/local/lib/python3.10/dist-packages (from distributed==2023.7.1->cuml-cu11) (2.0.4)\n",
            "Collecting pylibraft-cu11==23.8.* (from raft-dask-cu11==23.8.*->cuml-cu11)\n",
            "  Downloading https://pypi.nvidia.com/pylibraft-cu11/pylibraft_cu11-23.8.0-cp310-cp310-manylinux_2_17_x86_64.manylinux2014_x86_64.whl (555.6 MB)\n",
            "     ━━━━━━━━━━━━━━━━━━━━━━━━━━━━━━━━━━━━━━━ 555.6/555.6 MB 1.5 MB/s eta 0:00:00\n",
            "Collecting ucx-py-cu11==0.33.* (from raft-dask-cu11==23.8.*->cuml-cu11)\n",
            "  Downloading https://pypi.nvidia.com/ucx-py-cu11/ucx_py_cu11-0.33.0-cp310-cp310-manylinux_2_17_x86_64.manylinux2014_x86_64.whl (7.9 MB)\n",
            "     ━━━━━━━━━━━━━━━━━━━━━━━━━━━━━━━━━━━━━━━━ 7.9/7.9 MB 110.5 MB/s eta 0:00:00\n",
            "Collecting pylibcugraph-cu11==23.8.* (from cugraph-cu11)\n",
            "  Downloading https://pypi.nvidia.com/pylibcugraph-cu11/pylibcugraph_cu11-23.8.0-cp310-cp310-manylinux_2_17_x86_64.manylinux2014_x86_64.whl (1212.4 MB)\n",
            "     ━━━━━━━━━━━━━━━━━━━━━━━━━━━━━━━━━━━━━━━━ 1.2/1.2 GB 1.4 MB/s eta 0:00:00\n",
            "Requirement already satisfied: attrs>=17.3.0 in /usr/local/lib/python3.10/dist-packages (from aiohttp) (23.1.0)\n",
            "Requirement already satisfied: charset-normalizer<4.0,>=2.0 in /usr/local/lib/python3.10/dist-packages (from aiohttp) (3.2.0)\n",
            "Requirement already satisfied: multidict<7.0,>=4.5 in /usr/local/lib/python3.10/dist-packages (from aiohttp) (6.0.4)\n",
            "Requirement already satisfied: async-timeout<5.0,>=4.0.0a3 in /usr/local/lib/python3.10/dist-packages (from aiohttp) (4.0.3)\n",
            "Requirement already satisfied: yarl<2.0,>=1.0 in /usr/local/lib/python3.10/dist-packages (from aiohttp) (1.9.2)\n",
            "Requirement already satisfied: frozenlist>=1.1.1 in /usr/local/lib/python3.10/dist-packages (from aiohttp) (1.4.0)\n",
            "Requirement already satisfied: aiosignal>=1.1.2 in /usr/local/lib/python3.10/dist-packages (from aiohttp) (1.3.1)\n",
            "Requirement already satisfied: cython in /usr/local/lib/python3.10/dist-packages (from cuda-python<12.0a0,>=11.7.1->cudf-cu11) (0.29.36)\n",
            "Requirement already satisfied: fastrlock>=0.5 in /usr/local/lib/python3.10/dist-packages (from cupy-cuda11x>=12.0.0->cudf-cu11) (0.8.2)\n",
            "Collecting llvmlite<0.41,>=0.40.0dev0 (from numba>=0.57->cudf-cu11)\n",
            "  Downloading llvmlite-0.40.1-cp310-cp310-manylinux_2_17_x86_64.manylinux2014_x86_64.whl (42.1 MB)\n",
            "     ━━━━━━━━━━━━━━━━━━━━━━━━━━━━━━━━━━━━━━━━ 42.1/42.1 MB 19.2 MB/s eta 0:00:00\n",
            "Requirement already satisfied: python-dateutil>=2.8.1 in /usr/local/lib/python3.10/dist-packages (from pandas<1.6.0dev0,>=1.3->cudf-cu11) (2.8.2)\n",
            "Requirement already satisfied: pytz>=2020.1 in /usr/local/lib/python3.10/dist-packages (from pandas<1.6.0dev0,>=1.3->cudf-cu11) (2023.3.post1)\n",
            "Requirement already satisfied: idna>=2.0 in /usr/local/lib/python3.10/dist-packages (from yarl<2.0,>=1.0->aiohttp) (3.4)\n",
            "Requirement already satisfied: zipp>=0.5 in /usr/local/lib/python3.10/dist-packages (from importlib-metadata>=4.13.0->dask==2023.7.1->cuml-cu11) (3.16.2)\n",
            "Requirement already satisfied: MarkupSafe>=2.0 in /usr/local/lib/python3.10/dist-packages (from jinja2>=2.10.3->distributed==2023.7.1->cuml-cu11) (2.1.3)\n",
            "Requirement already satisfied: six>=1.5 in /usr/local/lib/python3.10/dist-packages (from python-dateutil>=2.8.1->pandas<1.6.0dev0,>=1.3->cudf-cu11) (1.16.0)\n",
            "Installing collected packages: ptxcompiler-cu11, nvtx, cubinlinker-cu11, pynvml, pyarrow, protobuf, llvmlite, cupy-cuda11x, cuda-python, ucx-py-cu11, treelite-runtime, treelite, numba, dask, rmm-cu11, distributed, pylibraft-cu11, dask-cuda, cudf-cu11, raft-dask-cu11, pylibcugraph-cu11, dask-cudf-cu11, cuml-cu11, cugraph-cu11\n",
            "  Attempting uninstall: pynvml\n",
            "    Found existing installation: pynvml 11.5.0\n",
            "    Uninstalling pynvml-11.5.0:\n",
            "      Successfully uninstalled pynvml-11.5.0\n",
            "  Attempting uninstall: pyarrow\n",
            "    Found existing installation: pyarrow 9.0.0\n",
            "    Uninstalling pyarrow-9.0.0:\n",
            "      Successfully uninstalled pyarrow-9.0.0\n",
            "  Attempting uninstall: protobuf\n",
            "    Found existing installation: protobuf 3.20.3\n",
            "    Uninstalling protobuf-3.20.3:\n",
            "      Successfully uninstalled protobuf-3.20.3\n",
            "  Attempting uninstall: llvmlite\n",
            "    Found existing installation: llvmlite 0.39.1\n",
            "    Uninstalling llvmlite-0.39.1:\n",
            "      Successfully uninstalled llvmlite-0.39.1\n",
            "  Attempting uninstall: cupy-cuda11x\n",
            "    Found existing installation: cupy-cuda11x 11.0.0\n",
            "    Uninstalling cupy-cuda11x-11.0.0:\n",
            "      Successfully uninstalled cupy-cuda11x-11.0.0\n",
            "  Attempting uninstall: numba\n",
            "    Found existing installation: numba 0.56.4\n",
            "    Uninstalling numba-0.56.4:\n",
            "      Successfully uninstalled numba-0.56.4\n",
            "  Attempting uninstall: dask\n",
            "    Found existing installation: dask 2023.8.1\n",
            "    Uninstalling dask-2023.8.1:\n",
            "      Successfully uninstalled dask-2023.8.1\n",
            "  Attempting uninstall: distributed\n",
            "    Found existing installation: distributed 2023.8.1\n",
            "    Uninstalling distributed-2023.8.1:\n",
            "      Successfully uninstalled distributed-2023.8.1\n",
            "ERROR: pip's dependency resolver does not currently take into account all the packages that are installed. This behaviour is the source of the following dependency conflicts.\n",
            "pandas-gbq 0.17.9 requires pyarrow<10.0dev,>=3.0.0, but you have pyarrow 11.0.0 which is incompatible.\n",
            "tensorflow-metadata 1.14.0 requires protobuf<4.21,>=3.20.3, but you have protobuf 4.24.3 which is incompatible.\n",
            "Successfully installed cubinlinker-cu11-0.3.0.post1 cuda-python-11.8.2 cudf-cu11-23.8.0 cugraph-cu11-23.8.0 cuml-cu11-23.8.0 cupy-cuda11x-12.2.0 dask-2023.7.1 dask-cuda-23.8.0 dask-cudf-cu11-23.8.0 distributed-2023.7.1 llvmlite-0.40.1 numba-0.57.1 nvtx-0.2.8 protobuf-4.24.3 ptxcompiler-cu11-0.7.0.post1 pyarrow-11.0.0 pylibcugraph-cu11-23.8.0 pylibraft-cu11-23.8.0 pynvml-11.4.1 raft-dask-cu11-23.8.0 rmm-cu11-23.8.0 treelite-3.2.0 treelite-runtime-3.2.0 ucx-py-cu11-0.33.0\n",
            "Requirement already satisfied: cupy-cuda11x in /usr/local/lib/python3.10/dist-packages (12.2.0)\n",
            "Requirement already satisfied: numpy<1.27,>=1.20 in /usr/local/lib/python3.10/dist-packages (from cupy-cuda11x) (1.23.5)\n",
            "Requirement already satisfied: fastrlock>=0.5 in /usr/local/lib/python3.10/dist-packages (from cupy-cuda11x) (0.8.2)\n",
            "\n",
            "          ***********************************************************************\n",
            "          The pip install of RAPIDS is complete.\n",
            "          \n",
            "          Please do not run any further installation from the conda based installation methods, as they may cause issues!  \n",
            "          \n",
            "          Please ensure that you're pulling from the git repo to remain updated with the latest working install scripts. \n",
            "r          \n",
            "          Troubleshooting:\n",
            "             - If there is an installation failure, please check back on RAPIDSAI owned templates/notebooks to see how to update your personal files. \n",
            "             - If an installation failure persists when using the latest script, please make an issue on https://github.com/rapidsai-community/rapidsai-csp-utils\n",
            "          ***********************************************************************\n",
            "          \n"
          ]
        }
      ],
      "source": [
        "# This get the RAPIDS-Colab install files and test check your GPU.  Run this and the next cell only.\n",
        "# Please read the output of this cell.  If your Colab Instance is not RAPIDS compatible, it will warn you and give you remediation steps.\n",
        "!git clone https://github.com/rapidsai/rapidsai-csp-utils.git\n",
        "!python rapidsai-csp-utils/colab/pip-install.py"
      ]
    },
    {
      "cell_type": "code",
      "source": [
        "# import cudf\n",
        "# import cuml\n",
        "import os\n",
        "import numpy as np\n",
        "import pandas as pd"
      ],
      "metadata": {
        "id": "o7948JWZDf6S"
      },
      "execution_count": null,
      "outputs": []
    },
    {
      "cell_type": "code",
      "execution_count": null,
      "metadata": {
        "id": "6R2hTqmYgzDZ"
      },
      "outputs": [],
      "source": [
        "!curl -O https://datarepo.eng.ucsd.edu/mcauley_group/data/amazon_v2/categoryFilesSmall/Electronics_5.json.gz\n"
      ]
    },
    {
      "cell_type": "code",
      "execution_count": null,
      "metadata": {
        "id": "rukyXZT9nB0O"
      },
      "outputs": [],
      "source": [
        "%%time\n",
        "df = pd.read_json('/content/Electronics_5.json.gz')"
      ]
    },
    {
      "cell_type": "code",
      "source": [
        "import os\n",
        "import json\n",
        "import gzip\n",
        "import pandas as pd\n",
        "from urllib.request import urlopen"
      ],
      "metadata": {
        "id": "7VUKF2ajzFXi"
      },
      "execution_count": null,
      "outputs": []
    },
    {
      "cell_type": "code",
      "source": [
        "### load the meta data\n",
        "\n",
        "data = []\n",
        "with gzip.open('/content/Electronics_5.json.gz') as f:\n",
        "    for l in f:\n",
        "        data.append(json.loads(l.strip()))\n",
        "\n",
        "# total length of list, this number equals total number of products\n",
        "print(len(data))\n",
        "\n",
        "# first row of the list\n",
        "print(data[0])"
      ],
      "metadata": {
        "id": "fcNko5ktzFJK"
      },
      "execution_count": null,
      "outputs": []
    },
    {
      "cell_type": "code",
      "source": [],
      "metadata": {
        "id": "NBu5sX2ZzZga"
      },
      "execution_count": null,
      "outputs": []
    },
    {
      "cell_type": "code",
      "source": [
        "df.head()"
      ],
      "metadata": {
        "id": "Id4lX3XOoNMr"
      },
      "execution_count": null,
      "outputs": []
    },
    {
      "cell_type": "code",
      "execution_count": null,
      "metadata": {
        "id": "-yqo5vio6pCH"
      },
      "outputs": [],
      "source": [
        "df.to_parquet('/content/drive/MyDrive/Colab Notebooks/data/amazon_electronics')"
      ]
    },
    {
      "cell_type": "markdown",
      "source": [
        "#Old dataset."
      ],
      "metadata": {
        "id": "Al-ABz-AwXnw"
      }
    },
    {
      "cell_type": "code",
      "source": [
        "df = pd.read_csv('/content/drive/MyDrive/amazon_reviews_us_Electronics_v1_00.tsv.gz', sep = '\\t', error_bad_lines =False)\n",
        "df.head()"
      ],
      "metadata": {
        "colab": {
          "base_uri": "https://localhost:8080/",
          "height": 1000
        },
        "id": "DHPRTqhmwhhS",
        "outputId": "46016145-361a-4559-9746-06586ed09890"
      },
      "execution_count": null,
      "outputs": [
        {
          "output_type": "stream",
          "name": "stderr",
          "text": [
            "Skipping line 466560: expected 15 fields, saw 22\n",
            "Skipping line 486823: expected 15 fields, saw 22\n",
            "Skipping line 489036: expected 15 fields, saw 22\n",
            "Skipping line 496148: expected 15 fields, saw 22\n",
            "Skipping line 522330: expected 15 fields, saw 22\n",
            "\n",
            "Skipping line 552961: expected 15 fields, saw 22\n",
            "Skipping line 577388: expected 15 fields, saw 22\n",
            "Skipping line 582182: expected 15 fields, saw 22\n",
            "\n",
            "Skipping line 590653: expected 15 fields, saw 22\n",
            "Skipping line 608846: expected 15 fields, saw 22\n",
            "Skipping line 615442: expected 15 fields, saw 22\n",
            "Skipping line 645607: expected 15 fields, saw 22\n",
            "Skipping line 654323: expected 15 fields, saw 22\n",
            "\n",
            "Skipping line 714935: expected 15 fields, saw 22\n",
            "\n",
            "Skipping line 749608: expected 15 fields, saw 22\n",
            "Skipping line 753868: expected 15 fields, saw 22\n",
            "Skipping line 762504: expected 15 fields, saw 22\n",
            "Skipping line 771706: expected 15 fields, saw 22\n",
            "Skipping line 773376: expected 15 fields, saw 22\n",
            "\n",
            "Skipping line 792407: expected 15 fields, saw 22\n",
            "Skipping line 793933: expected 15 fields, saw 22\n",
            "Skipping line 813269: expected 15 fields, saw 22\n",
            "Skipping line 835491: expected 15 fields, saw 22\n",
            "Skipping line 841176: expected 15 fields, saw 22\n",
            "Skipping line 844604: expected 15 fields, saw 22\n",
            "\n",
            "Skipping line 857952: expected 15 fields, saw 22\n",
            "Skipping line 859568: expected 15 fields, saw 22\n",
            "Skipping line 860789: expected 15 fields, saw 22\n",
            "Skipping line 863093: expected 15 fields, saw 22\n",
            "Skipping line 881608: expected 15 fields, saw 22\n",
            "Skipping line 891157: expected 15 fields, saw 22\n",
            "Skipping line 893799: expected 15 fields, saw 22\n",
            "Skipping line 906438: expected 15 fields, saw 22\n",
            "Skipping line 914856: expected 15 fields, saw 22\n",
            "\n",
            "Skipping line 940736: expected 15 fields, saw 22\n",
            "Skipping line 965818: expected 15 fields, saw 22\n",
            "\n",
            "Skipping line 993840: expected 15 fields, saw 22\n",
            "Skipping line 1019036: expected 15 fields, saw 22\n",
            "Skipping line 1019205: expected 15 fields, saw 22\n",
            "\n",
            "Skipping line 1058122: expected 15 fields, saw 22\n",
            "\n",
            "Skipping line 1144887: expected 15 fields, saw 22\n",
            "Skipping line 1147255: expected 15 fields, saw 22\n",
            "Skipping line 1164497: expected 15 fields, saw 22\n",
            "Skipping line 1166930: expected 15 fields, saw 22\n",
            "\n",
            "Skipping line 1218319: expected 15 fields, saw 22\n",
            "Skipping line 1232868: expected 15 fields, saw 22\n",
            "\n",
            "Skipping line 1307335: expected 15 fields, saw 22\n",
            "\n",
            "Skipping line 1621422: expected 15 fields, saw 22\n",
            "\n",
            "Skipping line 1857720: expected 15 fields, saw 22\n",
            "\n",
            "Skipping line 1935753: expected 15 fields, saw 22\n",
            "\n",
            "Skipping line 1988449: expected 15 fields, saw 22\n",
            "\n"
          ]
        },
        {
          "output_type": "execute_result",
          "data": {
            "text/plain": [
              "  marketplace  customer_id       review_id  product_id  product_parent  \\\n",
              "0          US     41409413  R2MTG1GCZLR2DK  B00428R89M       112201306   \n",
              "1          US     49668221  R2HBOEM8LE9928  B000068O48       734576678   \n",
              "2          US     12338275  R1P4RW1R9FDPEE  B000GGKOG8       614448099   \n",
              "3          US     38487968  R1EBPM82ENI67M  B000NU4OTA        72265257   \n",
              "4          US     23732619  R372S58V6D11AT  B00JOQIO6S       308169188   \n",
              "\n",
              "                                       product_title product_category  \\\n",
              "0  yoomall 5M Antenna WIFI RP-SMA Female to Male ...      Electronics   \n",
              "1         Hosa GPM-103 3.5mm TRS to 1/4\" TRS Adaptor      Electronics   \n",
              "2        Channel Master Titan 2 Antenna Preamplifier      Electronics   \n",
              "3  LIMTECH Wall charger + USB Hotsync & Charging ...      Electronics   \n",
              "4     Skullcandy Air Raid Portable Bluetooth Speaker      Electronics   \n",
              "\n",
              "   star_rating  helpful_votes  total_votes vine verified_purchase  \\\n",
              "0            5              0            0    N                 Y   \n",
              "1            5              0            0    N                 Y   \n",
              "2            5              1            1    N                 Y   \n",
              "3            1              0            0    N                 Y   \n",
              "4            5              1            1    N                 Y   \n",
              "\n",
              "                 review_headline  \\\n",
              "0                     Five Stars   \n",
              "1       It works as advertising.   \n",
              "2                     Five Stars   \n",
              "3                       One Star   \n",
              "4  Overall pleased with the item   \n",
              "\n",
              "                                         review_body review_date  \n",
              "0                                      As described.  2015-08-31  \n",
              "1                           It works as advertising.  2015-08-31  \n",
              "2                                        Works pissa  2015-08-31  \n",
              "3                               Did not work at all.  2015-08-31  \n",
              "4  Works well. Bass is somewhat lacking but is pr...  2015-08-31  "
            ],
            "text/html": [
              "\n",
              "  <div id=\"df-b5f27d71-bd49-48ec-b213-79d823a913bc\" class=\"colab-df-container\">\n",
              "    <div>\n",
              "<style scoped>\n",
              "    .dataframe tbody tr th:only-of-type {\n",
              "        vertical-align: middle;\n",
              "    }\n",
              "\n",
              "    .dataframe tbody tr th {\n",
              "        vertical-align: top;\n",
              "    }\n",
              "\n",
              "    .dataframe thead th {\n",
              "        text-align: right;\n",
              "    }\n",
              "</style>\n",
              "<table border=\"1\" class=\"dataframe\">\n",
              "  <thead>\n",
              "    <tr style=\"text-align: right;\">\n",
              "      <th></th>\n",
              "      <th>marketplace</th>\n",
              "      <th>customer_id</th>\n",
              "      <th>review_id</th>\n",
              "      <th>product_id</th>\n",
              "      <th>product_parent</th>\n",
              "      <th>product_title</th>\n",
              "      <th>product_category</th>\n",
              "      <th>star_rating</th>\n",
              "      <th>helpful_votes</th>\n",
              "      <th>total_votes</th>\n",
              "      <th>vine</th>\n",
              "      <th>verified_purchase</th>\n",
              "      <th>review_headline</th>\n",
              "      <th>review_body</th>\n",
              "      <th>review_date</th>\n",
              "    </tr>\n",
              "  </thead>\n",
              "  <tbody>\n",
              "    <tr>\n",
              "      <th>0</th>\n",
              "      <td>US</td>\n",
              "      <td>41409413</td>\n",
              "      <td>R2MTG1GCZLR2DK</td>\n",
              "      <td>B00428R89M</td>\n",
              "      <td>112201306</td>\n",
              "      <td>yoomall 5M Antenna WIFI RP-SMA Female to Male ...</td>\n",
              "      <td>Electronics</td>\n",
              "      <td>5</td>\n",
              "      <td>0</td>\n",
              "      <td>0</td>\n",
              "      <td>N</td>\n",
              "      <td>Y</td>\n",
              "      <td>Five Stars</td>\n",
              "      <td>As described.</td>\n",
              "      <td>2015-08-31</td>\n",
              "    </tr>\n",
              "    <tr>\n",
              "      <th>1</th>\n",
              "      <td>US</td>\n",
              "      <td>49668221</td>\n",
              "      <td>R2HBOEM8LE9928</td>\n",
              "      <td>B000068O48</td>\n",
              "      <td>734576678</td>\n",
              "      <td>Hosa GPM-103 3.5mm TRS to 1/4\" TRS Adaptor</td>\n",
              "      <td>Electronics</td>\n",
              "      <td>5</td>\n",
              "      <td>0</td>\n",
              "      <td>0</td>\n",
              "      <td>N</td>\n",
              "      <td>Y</td>\n",
              "      <td>It works as advertising.</td>\n",
              "      <td>It works as advertising.</td>\n",
              "      <td>2015-08-31</td>\n",
              "    </tr>\n",
              "    <tr>\n",
              "      <th>2</th>\n",
              "      <td>US</td>\n",
              "      <td>12338275</td>\n",
              "      <td>R1P4RW1R9FDPEE</td>\n",
              "      <td>B000GGKOG8</td>\n",
              "      <td>614448099</td>\n",
              "      <td>Channel Master Titan 2 Antenna Preamplifier</td>\n",
              "      <td>Electronics</td>\n",
              "      <td>5</td>\n",
              "      <td>1</td>\n",
              "      <td>1</td>\n",
              "      <td>N</td>\n",
              "      <td>Y</td>\n",
              "      <td>Five Stars</td>\n",
              "      <td>Works pissa</td>\n",
              "      <td>2015-08-31</td>\n",
              "    </tr>\n",
              "    <tr>\n",
              "      <th>3</th>\n",
              "      <td>US</td>\n",
              "      <td>38487968</td>\n",
              "      <td>R1EBPM82ENI67M</td>\n",
              "      <td>B000NU4OTA</td>\n",
              "      <td>72265257</td>\n",
              "      <td>LIMTECH Wall charger + USB Hotsync &amp; Charging ...</td>\n",
              "      <td>Electronics</td>\n",
              "      <td>1</td>\n",
              "      <td>0</td>\n",
              "      <td>0</td>\n",
              "      <td>N</td>\n",
              "      <td>Y</td>\n",
              "      <td>One Star</td>\n",
              "      <td>Did not work at all.</td>\n",
              "      <td>2015-08-31</td>\n",
              "    </tr>\n",
              "    <tr>\n",
              "      <th>4</th>\n",
              "      <td>US</td>\n",
              "      <td>23732619</td>\n",
              "      <td>R372S58V6D11AT</td>\n",
              "      <td>B00JOQIO6S</td>\n",
              "      <td>308169188</td>\n",
              "      <td>Skullcandy Air Raid Portable Bluetooth Speaker</td>\n",
              "      <td>Electronics</td>\n",
              "      <td>5</td>\n",
              "      <td>1</td>\n",
              "      <td>1</td>\n",
              "      <td>N</td>\n",
              "      <td>Y</td>\n",
              "      <td>Overall pleased with the item</td>\n",
              "      <td>Works well. Bass is somewhat lacking but is pr...</td>\n",
              "      <td>2015-08-31</td>\n",
              "    </tr>\n",
              "  </tbody>\n",
              "</table>\n",
              "</div>\n",
              "    <div class=\"colab-df-buttons\">\n",
              "\n",
              "  <div class=\"colab-df-container\">\n",
              "    <button class=\"colab-df-convert\" onclick=\"convertToInteractive('df-b5f27d71-bd49-48ec-b213-79d823a913bc')\"\n",
              "            title=\"Convert this dataframe to an interactive table.\"\n",
              "            style=\"display:none;\">\n",
              "\n",
              "  <svg xmlns=\"http://www.w3.org/2000/svg\" height=\"24px\" viewBox=\"0 -960 960 960\">\n",
              "    <path d=\"M120-120v-720h720v720H120Zm60-500h600v-160H180v160Zm220 220h160v-160H400v160Zm0 220h160v-160H400v160ZM180-400h160v-160H180v160Zm440 0h160v-160H620v160ZM180-180h160v-160H180v160Zm440 0h160v-160H620v160Z\"/>\n",
              "  </svg>\n",
              "    </button>\n",
              "\n",
              "  <style>\n",
              "    .colab-df-container {\n",
              "      display:flex;\n",
              "      gap: 12px;\n",
              "    }\n",
              "\n",
              "    .colab-df-convert {\n",
              "      background-color: #E8F0FE;\n",
              "      border: none;\n",
              "      border-radius: 50%;\n",
              "      cursor: pointer;\n",
              "      display: none;\n",
              "      fill: #1967D2;\n",
              "      height: 32px;\n",
              "      padding: 0 0 0 0;\n",
              "      width: 32px;\n",
              "    }\n",
              "\n",
              "    .colab-df-convert:hover {\n",
              "      background-color: #E2EBFA;\n",
              "      box-shadow: 0px 1px 2px rgba(60, 64, 67, 0.3), 0px 1px 3px 1px rgba(60, 64, 67, 0.15);\n",
              "      fill: #174EA6;\n",
              "    }\n",
              "\n",
              "    .colab-df-buttons div {\n",
              "      margin-bottom: 4px;\n",
              "    }\n",
              "\n",
              "    [theme=dark] .colab-df-convert {\n",
              "      background-color: #3B4455;\n",
              "      fill: #D2E3FC;\n",
              "    }\n",
              "\n",
              "    [theme=dark] .colab-df-convert:hover {\n",
              "      background-color: #434B5C;\n",
              "      box-shadow: 0px 1px 3px 1px rgba(0, 0, 0, 0.15);\n",
              "      filter: drop-shadow(0px 1px 2px rgba(0, 0, 0, 0.3));\n",
              "      fill: #FFFFFF;\n",
              "    }\n",
              "  </style>\n",
              "\n",
              "    <script>\n",
              "      const buttonEl =\n",
              "        document.querySelector('#df-b5f27d71-bd49-48ec-b213-79d823a913bc button.colab-df-convert');\n",
              "      buttonEl.style.display =\n",
              "        google.colab.kernel.accessAllowed ? 'block' : 'none';\n",
              "\n",
              "      async function convertToInteractive(key) {\n",
              "        const element = document.querySelector('#df-b5f27d71-bd49-48ec-b213-79d823a913bc');\n",
              "        const dataTable =\n",
              "          await google.colab.kernel.invokeFunction('convertToInteractive',\n",
              "                                                    [key], {});\n",
              "        if (!dataTable) return;\n",
              "\n",
              "        const docLinkHtml = 'Like what you see? Visit the ' +\n",
              "          '<a target=\"_blank\" href=https://colab.research.google.com/notebooks/data_table.ipynb>data table notebook</a>'\n",
              "          + ' to learn more about interactive tables.';\n",
              "        element.innerHTML = '';\n",
              "        dataTable['output_type'] = 'display_data';\n",
              "        await google.colab.output.renderOutput(dataTable, element);\n",
              "        const docLink = document.createElement('div');\n",
              "        docLink.innerHTML = docLinkHtml;\n",
              "        element.appendChild(docLink);\n",
              "      }\n",
              "    </script>\n",
              "  </div>\n",
              "\n",
              "\n",
              "<div id=\"df-f566bc58-364a-4a89-85ca-49ee0fa0eebe\">\n",
              "  <button class=\"colab-df-quickchart\" onclick=\"quickchart('df-f566bc58-364a-4a89-85ca-49ee0fa0eebe')\"\n",
              "            title=\"Suggest charts.\"\n",
              "            style=\"display:none;\">\n",
              "\n",
              "<svg xmlns=\"http://www.w3.org/2000/svg\" height=\"24px\"viewBox=\"0 0 24 24\"\n",
              "     width=\"24px\">\n",
              "    <g>\n",
              "        <path d=\"M19 3H5c-1.1 0-2 .9-2 2v14c0 1.1.9 2 2 2h14c1.1 0 2-.9 2-2V5c0-1.1-.9-2-2-2zM9 17H7v-7h2v7zm4 0h-2V7h2v10zm4 0h-2v-4h2v4z\"/>\n",
              "    </g>\n",
              "</svg>\n",
              "  </button>\n",
              "\n",
              "<style>\n",
              "  .colab-df-quickchart {\n",
              "      --bg-color: #E8F0FE;\n",
              "      --fill-color: #1967D2;\n",
              "      --hover-bg-color: #E2EBFA;\n",
              "      --hover-fill-color: #174EA6;\n",
              "      --disabled-fill-color: #AAA;\n",
              "      --disabled-bg-color: #DDD;\n",
              "  }\n",
              "\n",
              "  [theme=dark] .colab-df-quickchart {\n",
              "      --bg-color: #3B4455;\n",
              "      --fill-color: #D2E3FC;\n",
              "      --hover-bg-color: #434B5C;\n",
              "      --hover-fill-color: #FFFFFF;\n",
              "      --disabled-bg-color: #3B4455;\n",
              "      --disabled-fill-color: #666;\n",
              "  }\n",
              "\n",
              "  .colab-df-quickchart {\n",
              "    background-color: var(--bg-color);\n",
              "    border: none;\n",
              "    border-radius: 50%;\n",
              "    cursor: pointer;\n",
              "    display: none;\n",
              "    fill: var(--fill-color);\n",
              "    height: 32px;\n",
              "    padding: 0;\n",
              "    width: 32px;\n",
              "  }\n",
              "\n",
              "  .colab-df-quickchart:hover {\n",
              "    background-color: var(--hover-bg-color);\n",
              "    box-shadow: 0 1px 2px rgba(60, 64, 67, 0.3), 0 1px 3px 1px rgba(60, 64, 67, 0.15);\n",
              "    fill: var(--button-hover-fill-color);\n",
              "  }\n",
              "\n",
              "  .colab-df-quickchart-complete:disabled,\n",
              "  .colab-df-quickchart-complete:disabled:hover {\n",
              "    background-color: var(--disabled-bg-color);\n",
              "    fill: var(--disabled-fill-color);\n",
              "    box-shadow: none;\n",
              "  }\n",
              "\n",
              "  .colab-df-spinner {\n",
              "    border: 2px solid var(--fill-color);\n",
              "    border-color: transparent;\n",
              "    border-bottom-color: var(--fill-color);\n",
              "    animation:\n",
              "      spin 1s steps(1) infinite;\n",
              "  }\n",
              "\n",
              "  @keyframes spin {\n",
              "    0% {\n",
              "      border-color: transparent;\n",
              "      border-bottom-color: var(--fill-color);\n",
              "      border-left-color: var(--fill-color);\n",
              "    }\n",
              "    20% {\n",
              "      border-color: transparent;\n",
              "      border-left-color: var(--fill-color);\n",
              "      border-top-color: var(--fill-color);\n",
              "    }\n",
              "    30% {\n",
              "      border-color: transparent;\n",
              "      border-left-color: var(--fill-color);\n",
              "      border-top-color: var(--fill-color);\n",
              "      border-right-color: var(--fill-color);\n",
              "    }\n",
              "    40% {\n",
              "      border-color: transparent;\n",
              "      border-right-color: var(--fill-color);\n",
              "      border-top-color: var(--fill-color);\n",
              "    }\n",
              "    60% {\n",
              "      border-color: transparent;\n",
              "      border-right-color: var(--fill-color);\n",
              "    }\n",
              "    80% {\n",
              "      border-color: transparent;\n",
              "      border-right-color: var(--fill-color);\n",
              "      border-bottom-color: var(--fill-color);\n",
              "    }\n",
              "    90% {\n",
              "      border-color: transparent;\n",
              "      border-bottom-color: var(--fill-color);\n",
              "    }\n",
              "  }\n",
              "</style>\n",
              "\n",
              "  <script>\n",
              "    async function quickchart(key) {\n",
              "      const quickchartButtonEl =\n",
              "        document.querySelector('#' + key + ' button');\n",
              "      quickchartButtonEl.disabled = true;  // To prevent multiple clicks.\n",
              "      quickchartButtonEl.classList.add('colab-df-spinner');\n",
              "      try {\n",
              "        const charts = await google.colab.kernel.invokeFunction(\n",
              "            'suggestCharts', [key], {});\n",
              "      } catch (error) {\n",
              "        console.error('Error during call to suggestCharts:', error);\n",
              "      }\n",
              "      quickchartButtonEl.classList.remove('colab-df-spinner');\n",
              "      quickchartButtonEl.classList.add('colab-df-quickchart-complete');\n",
              "    }\n",
              "    (() => {\n",
              "      let quickchartButtonEl =\n",
              "        document.querySelector('#df-f566bc58-364a-4a89-85ca-49ee0fa0eebe button');\n",
              "      quickchartButtonEl.style.display =\n",
              "        google.colab.kernel.accessAllowed ? 'block' : 'none';\n",
              "    })();\n",
              "  </script>\n",
              "</div>\n",
              "    </div>\n",
              "  </div>\n"
            ]
          },
          "metadata": {},
          "execution_count": 4
        }
      ]
    },
    {
      "cell_type": "code",
      "execution_count": null,
      "metadata": {
        "colab": {
          "base_uri": "https://localhost:8080/"
        },
        "id": "tDSMsHBOOliG",
        "outputId": "2bab4a38-757f-4b3a-f962-46242200894c"
      },
      "outputs": [
        {
          "output_type": "stream",
          "name": "stdout",
          "text": [
            "CPU times: user 6.95 s, sys: 354 ms, total: 7.3 s\n",
            "Wall time: 7.36 s\n"
          ]
        },
        {
          "output_type": "execute_result",
          "data": {
            "text/plain": [
              "(2894777, 2)"
            ]
          },
          "metadata": {},
          "execution_count": 5
        }
      ],
      "source": [
        "%%time\n",
        "df = df.dropna(subset = ['product_title','review_body','review_date','review_headline'])\n",
        "df = df[['review_body','star_rating']]\n",
        "df = df.drop_duplicates(subset = ['review_body'], keep = 'first')\n",
        "df.shape"
      ]
    },
    {
      "cell_type": "code",
      "execution_count": null,
      "metadata": {
        "id": "eDN_xYrE9nwm"
      },
      "outputs": [],
      "source": [
        "import numpy as np\n",
        "# import pandas as pd\n",
        "import matplotlib.pyplot as plt\n",
        "import seaborn as sns\n",
        "\n",
        "from matplotlib.colors import ListedColormap\n",
        "import matplotlib.colors as colors\n",
        "%matplotlib inline\n",
        "\n",
        "import warnings\n",
        "from scipy import stats\n",
        "warnings.filterwarnings('ignore')\n"
      ]
    },
    {
      "cell_type": "code",
      "execution_count": null,
      "metadata": {
        "colab": {
          "base_uri": "https://localhost:8080/"
        },
        "id": "0RQaGVo9JvEM",
        "outputId": "eb0c5848-e891-45f9-c6c6-b947307b6204"
      },
      "outputs": [
        {
          "output_type": "execute_result",
          "data": {
            "text/plain": [
              "review_body    0\n",
              "star_rating    0\n",
              "dtype: int64"
            ]
          },
          "metadata": {},
          "execution_count": 7
        }
      ],
      "source": [
        "df.isnull().sum()"
      ]
    },
    {
      "cell_type": "code",
      "execution_count": null,
      "metadata": {
        "id": "frBHuGhXNGpN"
      },
      "outputs": [],
      "source": [
        "# df = df.dropna(subset = ['product_title','review_body','review_date','review_headline'])\n",
        "# df.shape"
      ]
    },
    {
      "cell_type": "code",
      "execution_count": null,
      "metadata": {
        "colab": {
          "base_uri": "https://localhost:8080/",
          "height": 420
        },
        "id": "tGkDXyVTNmco",
        "outputId": "32c3dbd1-f50b-4420-edf2-245c908d0795"
      },
      "outputs": [
        {
          "output_type": "stream",
          "name": "stdout",
          "text": [
            "================================================\n",
            "Number of reviews:  2894777\n",
            "\n"
          ]
        },
        {
          "output_type": "error",
          "ename": "AttributeError",
          "evalue": "ignored",
          "traceback": [
            "\u001b[0;31m---------------------------------------------------------------------------\u001b[0m",
            "\u001b[0;31mAttributeError\u001b[0m                            Traceback (most recent call last)",
            "\u001b[0;32m<ipython-input-8-78d0bfc1648f>\u001b[0m in \u001b[0;36m<cell line: 7>\u001b[0;34m()\u001b[0m\n\u001b[1;32m      5\u001b[0m \u001b[0;34m\u001b[0m\u001b[0m\n\u001b[1;32m      6\u001b[0m \u001b[0;31m### How many unique reviewers?\u001b[0m\u001b[0;34m\u001b[0m\u001b[0;34m\u001b[0m\u001b[0m\n\u001b[0;32m----> 7\u001b[0;31m \u001b[0mprint\u001b[0m \u001b[0;34m(\u001b[0m\u001b[0;34m\"Number of unique reviewers: \"\u001b[0m\u001b[0;34m,\u001b[0m\u001b[0mlen\u001b[0m\u001b[0;34m(\u001b[0m\u001b[0mdf\u001b[0m\u001b[0;34m.\u001b[0m\u001b[0mreview_id\u001b[0m\u001b[0;34m.\u001b[0m\u001b[0munique\u001b[0m\u001b[0;34m(\u001b[0m\u001b[0;34m)\u001b[0m\u001b[0;34m)\u001b[0m\u001b[0;34m)\u001b[0m\u001b[0;34m\u001b[0m\u001b[0;34m\u001b[0m\u001b[0m\n\u001b[0m\u001b[1;32m      8\u001b[0m \u001b[0mreviewer_prop\u001b[0m \u001b[0;34m=\u001b[0m \u001b[0mfloat\u001b[0m\u001b[0;34m(\u001b[0m\u001b[0mlen\u001b[0m\u001b[0;34m(\u001b[0m\u001b[0mdf\u001b[0m\u001b[0;34m.\u001b[0m\u001b[0mcustomer_id\u001b[0m\u001b[0;34m.\u001b[0m\u001b[0munique\u001b[0m\u001b[0;34m(\u001b[0m\u001b[0;34m)\u001b[0m\u001b[0;34m)\u001b[0m\u001b[0;34m/\u001b[0m\u001b[0mtotal\u001b[0m\u001b[0;34m)\u001b[0m\u001b[0;34m\u001b[0m\u001b[0;34m\u001b[0m\u001b[0m\n\u001b[1;32m      9\u001b[0m \u001b[0mprint\u001b[0m \u001b[0;34m(\u001b[0m\u001b[0;34m\"Prop of unique reviewers: \"\u001b[0m\u001b[0;34m,\u001b[0m\u001b[0mround\u001b[0m\u001b[0;34m(\u001b[0m\u001b[0mreviewer_prop\u001b[0m\u001b[0;34m,\u001b[0m\u001b[0;36m3\u001b[0m\u001b[0;34m)\u001b[0m\u001b[0;34m)\u001b[0m\u001b[0;34m\u001b[0m\u001b[0;34m\u001b[0m\u001b[0m\n",
            "\u001b[0;32m/usr/local/lib/python3.10/dist-packages/pandas/core/generic.py\u001b[0m in \u001b[0;36m__getattr__\u001b[0;34m(self, name)\u001b[0m\n\u001b[1;32m   5900\u001b[0m         ):\n\u001b[1;32m   5901\u001b[0m             \u001b[0;32mreturn\u001b[0m \u001b[0mself\u001b[0m\u001b[0;34m[\u001b[0m\u001b[0mname\u001b[0m\u001b[0;34m]\u001b[0m\u001b[0;34m\u001b[0m\u001b[0;34m\u001b[0m\u001b[0m\n\u001b[0;32m-> 5902\u001b[0;31m         \u001b[0;32mreturn\u001b[0m \u001b[0mobject\u001b[0m\u001b[0;34m.\u001b[0m\u001b[0m__getattribute__\u001b[0m\u001b[0;34m(\u001b[0m\u001b[0mself\u001b[0m\u001b[0;34m,\u001b[0m \u001b[0mname\u001b[0m\u001b[0;34m)\u001b[0m\u001b[0;34m\u001b[0m\u001b[0;34m\u001b[0m\u001b[0m\n\u001b[0m\u001b[1;32m   5903\u001b[0m \u001b[0;34m\u001b[0m\u001b[0m\n\u001b[1;32m   5904\u001b[0m     \u001b[0;32mdef\u001b[0m \u001b[0m__setattr__\u001b[0m\u001b[0;34m(\u001b[0m\u001b[0mself\u001b[0m\u001b[0;34m,\u001b[0m \u001b[0mname\u001b[0m\u001b[0;34m:\u001b[0m \u001b[0mstr\u001b[0m\u001b[0;34m,\u001b[0m \u001b[0mvalue\u001b[0m\u001b[0;34m)\u001b[0m \u001b[0;34m->\u001b[0m \u001b[0;32mNone\u001b[0m\u001b[0;34m:\u001b[0m\u001b[0;34m\u001b[0m\u001b[0;34m\u001b[0m\u001b[0m\n",
            "\u001b[0;31mAttributeError\u001b[0m: 'DataFrame' object has no attribute 'review_id'"
          ]
        }
      ],
      "source": [
        "print (\"================================================\")\n",
        "total = len(df)\n",
        "print (\"Number of reviews: \",total)\n",
        "print ()\n",
        "\n",
        "### How many unique reviewers?\n",
        "print (\"Number of unique reviewers: \",len(df.review_id.unique()))\n",
        "reviewer_prop = float(len(df.customer_id.unique())/total)\n",
        "print (\"Prop of unique reviewers: \",round(reviewer_prop,3))\n",
        "print ()\n",
        "\n",
        "### How many unique products?\n",
        "print (\"Number of unique products: \", len(df.product_id.unique()))\n",
        "product_prop = float(len(df.product_id.unique())/total)\n",
        "print (\"Prop of unique products: \",round(product_prop,3))\n",
        "print ()\n",
        "\n",
        "### Average star score\n",
        "print (\"Average rating score: \",round(df.star_rating.mean(),3))\n",
        "\n",
        "### Average helpful ratio\n",
        "print (\"Average helpful ratio score: \",round(df.helpful_votes.mean(),3))\n",
        "\n",
        "print (\"Count of Negative reviews: \", len(df[df.star_rating <=2]))\n",
        "neg_prop = float(len(df[df.star_rating <=2])/total)\n",
        "print (\"Prop of negative reviews: \",round(neg_prop,3))\n",
        "print ()\n",
        "\n",
        "\n",
        "print (\"================================================\")\n",
        "\n"
      ]
    },
    {
      "cell_type": "code",
      "execution_count": null,
      "metadata": {
        "colab": {
          "base_uri": "https://localhost:8080/",
          "height": 299
        },
        "id": "LkkaAB1qOJQe",
        "outputId": "63ac13f3-484d-4002-bdb6-f8f9ab22c67e"
      },
      "outputs": [
        {
          "output_type": "error",
          "ename": "TypeError",
          "evalue": "ignored",
          "traceback": [
            "\u001b[0;31m---------------------------------------------------------------------------\u001b[0m",
            "\u001b[0;31mTypeError\u001b[0m                                 Traceback (most recent call last)",
            "\u001b[0;32m<ipython-input-9-d11a2fe1f618>\u001b[0m in \u001b[0;36m<cell line: 1>\u001b[0;34m()\u001b[0m\n\u001b[0;32m----> 1\u001b[0;31m \u001b[0mdf\u001b[0m\u001b[0;34m[\u001b[0m\u001b[0mint\u001b[0m\u001b[0;34m(\u001b[0m\u001b[0mdf\u001b[0m\u001b[0;34m.\u001b[0m\u001b[0mstar_rating\u001b[0m\u001b[0;34m)\u001b[0m \u001b[0;34m<=\u001b[0m\u001b[0;36m2\u001b[0m\u001b[0;34m]\u001b[0m\u001b[0;34m\u001b[0m\u001b[0;34m\u001b[0m\u001b[0m\n\u001b[0m",
            "\u001b[0;32m/usr/local/lib/python3.10/dist-packages/pandas/core/series.py\u001b[0m in \u001b[0;36mwrapper\u001b[0;34m(self)\u001b[0m\n\u001b[1;32m    204\u001b[0m         \u001b[0;32mif\u001b[0m \u001b[0mlen\u001b[0m\u001b[0;34m(\u001b[0m\u001b[0mself\u001b[0m\u001b[0;34m)\u001b[0m \u001b[0;34m==\u001b[0m \u001b[0;36m1\u001b[0m\u001b[0;34m:\u001b[0m\u001b[0;34m\u001b[0m\u001b[0;34m\u001b[0m\u001b[0m\n\u001b[1;32m    205\u001b[0m             \u001b[0;32mreturn\u001b[0m \u001b[0mconverter\u001b[0m\u001b[0;34m(\u001b[0m\u001b[0mself\u001b[0m\u001b[0;34m.\u001b[0m\u001b[0miloc\u001b[0m\u001b[0;34m[\u001b[0m\u001b[0;36m0\u001b[0m\u001b[0;34m]\u001b[0m\u001b[0;34m)\u001b[0m\u001b[0;34m\u001b[0m\u001b[0;34m\u001b[0m\u001b[0m\n\u001b[0;32m--> 206\u001b[0;31m         \u001b[0;32mraise\u001b[0m \u001b[0mTypeError\u001b[0m\u001b[0;34m(\u001b[0m\u001b[0;34mf\"cannot convert the series to {converter}\"\u001b[0m\u001b[0;34m)\u001b[0m\u001b[0;34m\u001b[0m\u001b[0;34m\u001b[0m\u001b[0m\n\u001b[0m\u001b[1;32m    207\u001b[0m \u001b[0;34m\u001b[0m\u001b[0m\n\u001b[1;32m    208\u001b[0m     \u001b[0mwrapper\u001b[0m\u001b[0;34m.\u001b[0m\u001b[0m__name__\u001b[0m \u001b[0;34m=\u001b[0m \u001b[0;34mf\"__{converter.__name__}__\"\u001b[0m\u001b[0;34m\u001b[0m\u001b[0;34m\u001b[0m\u001b[0m\n",
            "\u001b[0;31mTypeError\u001b[0m: cannot convert the series to <class 'int'>"
          ]
        }
      ],
      "source": [
        "df[int(df.star_rating) <=2]"
      ]
    },
    {
      "cell_type": "code",
      "execution_count": null,
      "metadata": {
        "colab": {
          "base_uri": "https://localhost:8080/",
          "height": 730
        },
        "id": "RxKOIL6VRUDk",
        "outputId": "58c744b3-623a-43e5-e7c5-32cf000e7eff"
      },
      "outputs": [
        {
          "output_type": "execute_result",
          "data": {
            "text/plain": [
              "Text(0, 0.5, 'Number of Reviews')"
            ]
          },
          "metadata": {},
          "execution_count": 10
        },
        {
          "output_type": "display_data",
          "data": {
            "text/plain": [
              "<Figure size 1200x800 with 1 Axes>"
            ],
            "image/png": "[encoded data removed]"
          },
          "metadata": {}
        }
      ],
      "source": [
        "\n",
        "\n",
        "plt.figure(figsize=(12,8))\n",
        "# sns.countplot(df['Rating'])\n",
        "df['star_rating'].value_counts().sort_index().plot(kind='bar')\n",
        "plt.title('Distribution of Rating')\n",
        "plt.xlabel('Rating')\n",
        "plt.ylabel('Number of Reviews')"
      ]
    },
    {
      "cell_type": "code",
      "execution_count": null,
      "metadata": {
        "colab": {
          "base_uri": "https://localhost:8080/",
          "height": 457
        },
        "id": "Mi6gH6YlSj9x",
        "outputId": "301e1c22-f213-49f1-d426-1259688710e6"
      },
      "outputs": [
        {
          "output_type": "execute_result",
          "data": {
            "text/plain": [
              "<Axes: >"
            ]
          },
          "metadata": {},
          "execution_count": 11
        },
        {
          "output_type": "display_data",
          "data": {
            "text/plain": [
              "<Figure size 640x480 with 1 Axes>"
            ],
            "image/png": "[encoded data removed]"
          },
          "metadata": {}
        }
      ],
      "source": [
        "df.star_rating.value_counts().plot.bar(color = 'green')"
      ]
    },
    {
      "cell_type": "code",
      "execution_count": null,
      "metadata": {
        "id": "lt23a5ko6tWJ"
      },
      "outputs": [],
      "source": []
    },
    {
      "cell_type": "code",
      "execution_count": null,
      "metadata": {
        "id": "7vap5eB-39OU"
      },
      "outputs": [],
      "source": [
        "# Import necessary libraries\n",
        "import tensorflow as tf\n",
        "from tensorflow.keras.layers import Embedding, LSTM, Dense, Dropout,Conv1D, MaxPooling1D\n",
        "# from tensorflow.python.keras.layers import CuDNNLSTM\n",
        "from tensorflow.keras.models import Sequential\n",
        "from tensorflow.keras.preprocessing.text import Tokenizer\n",
        "from tensorflow.keras.preprocessing.sequence import pad_sequences\n",
        "\n"
      ]
    },
    {
      "cell_type": "code",
      "execution_count": null,
      "metadata": {
        "id": "CL0b0fenW2bZ"
      },
      "outputs": [],
      "source": [
        "df = df.sample(n = 100000, random_state = 2)"
      ]
    },
    {
      "cell_type": "code",
      "execution_count": null,
      "metadata": {
        "id": "x4QiWBDa4NHa",
        "colab": {
          "base_uri": "https://localhost:8080/"
        },
        "outputId": "7a301223-6542-418f-9067-eece7464553b"
      },
      "outputs": [
        {
          "output_type": "stream",
          "name": "stdout",
          "text": [
            "CPU times: user 8.57 s, sys: 104 ms, total: 8.67 s\n",
            "Wall time: 10.3 s\n"
          ]
        }
      ],
      "source": [
        "%%time\n",
        "# Clean the text data\n",
        "df['review_body'] = df['review_body'].apply(lambda x: x.lower()) # Convert text to lowercase\n",
        "df['review_body'] = df['review_body'].apply(lambda x: ''.join([i for i in x if i.isalpha() or i.isspace()])) # Remove non-alphabetic characters\n",
        "df['review_body'] = df['review_body'].apply(lambda x: ' '.join([w for w in x.split() if len(w)>2])) # Remove short words"
      ]
    },
    {
      "cell_type": "code",
      "execution_count": null,
      "metadata": {
        "colab": {
          "base_uri": "https://localhost:8080/",
          "height": 206
        },
        "id": "q-GVazP15Y6F",
        "outputId": "f263d67a-c02d-4078-e62c-20aefd28c753"
      },
      "outputs": [
        {
          "output_type": "execute_result",
          "data": {
            "text/plain": [
              "                                               review_body  star_rating\n",
              "2589351  fantastic concept support from manufacturer in...            1\n",
              "828554   these headphones are amazing everything about ...            5\n",
              "2310379  nice product and fortunately got less price wo...            4\n",
              "975212   looks different than the original plug had but...            5\n",
              "2508963  used this clip onto revue keyboard works great...            5"
            ],
            "text/html": [
              "\n",
              "  <div id=\"df-982be196-588f-4ccf-b272-b298646324b2\" class=\"colab-df-container\">\n",
              "    <div>\n",
              "<style scoped>\n",
              "    .dataframe tbody tr th:only-of-type {\n",
              "        vertical-align: middle;\n",
              "    }\n",
              "\n",
              "    .dataframe tbody tr th {\n",
              "        vertical-align: top;\n",
              "    }\n",
              "\n",
              "    .dataframe thead th {\n",
              "        text-align: right;\n",
              "    }\n",
              "</style>\n",
              "<table border=\"1\" class=\"dataframe\">\n",
              "  <thead>\n",
              "    <tr style=\"text-align: right;\">\n",
              "      <th></th>\n",
              "      <th>review_body</th>\n",
              "      <th>star_rating</th>\n",
              "    </tr>\n",
              "  </thead>\n",
              "  <tbody>\n",
              "    <tr>\n",
              "      <th>2589351</th>\n",
              "      <td>fantastic concept support from manufacturer in...</td>\n",
              "      <td>1</td>\n",
              "    </tr>\n",
              "    <tr>\n",
              "      <th>828554</th>\n",
              "      <td>these headphones are amazing everything about ...</td>\n",
              "      <td>5</td>\n",
              "    </tr>\n",
              "    <tr>\n",
              "      <th>2310379</th>\n",
              "      <td>nice product and fortunately got less price wo...</td>\n",
              "      <td>4</td>\n",
              "    </tr>\n",
              "    <tr>\n",
              "      <th>975212</th>\n",
              "      <td>looks different than the original plug had but...</td>\n",
              "      <td>5</td>\n",
              "    </tr>\n",
              "    <tr>\n",
              "      <th>2508963</th>\n",
              "      <td>used this clip onto revue keyboard works great...</td>\n",
              "      <td>5</td>\n",
              "    </tr>\n",
              "  </tbody>\n",
              "</table>\n",
              "</div>\n",
              "    <div class=\"colab-df-buttons\">\n",
              "\n",
              "  <div class=\"colab-df-container\">\n",
              "    <button class=\"colab-df-convert\" onclick=\"convertToInteractive('df-982be196-588f-4ccf-b272-b298646324b2')\"\n",
              "            title=\"Convert this dataframe to an interactive table.\"\n",
              "            style=\"display:none;\">\n",
              "\n",
              "  <svg xmlns=\"http://www.w3.org/2000/svg\" height=\"24px\" viewBox=\"0 -960 960 960\">\n",
              "    <path d=\"M120-120v-720h720v720H120Zm60-500h600v-160H180v160Zm220 220h160v-160H400v160Zm0 220h160v-160H400v160ZM180-400h160v-160H180v160Zm440 0h160v-160H620v160ZM180-180h160v-160H180v160Zm440 0h160v-160H620v160Z\"/>\n",
              "  </svg>\n",
              "    </button>\n",
              "\n",
              "  <style>\n",
              "    .colab-df-container {\n",
              "      display:flex;\n",
              "      gap: 12px;\n",
              "    }\n",
              "\n",
              "    .colab-df-convert {\n",
              "      background-color: #E8F0FE;\n",
              "      border: none;\n",
              "      border-radius: 50%;\n",
              "      cursor: pointer;\n",
              "      display: none;\n",
              "      fill: #1967D2;\n",
              "      height: 32px;\n",
              "      padding: 0 0 0 0;\n",
              "      width: 32px;\n",
              "    }\n",
              "\n",
              "    .colab-df-convert:hover {\n",
              "      background-color: #E2EBFA;\n",
              "      box-shadow: 0px 1px 2px rgba(60, 64, 67, 0.3), 0px 1px 3px 1px rgba(60, 64, 67, 0.15);\n",
              "      fill: #174EA6;\n",
              "    }\n",
              "\n",
              "    .colab-df-buttons div {\n",
              "      margin-bottom: 4px;\n",
              "    }\n",
              "\n",
              "    [theme=dark] .colab-df-convert {\n",
              "      background-color: #3B4455;\n",
              "      fill: #D2E3FC;\n",
              "    }\n",
              "\n",
              "    [theme=dark] .colab-df-convert:hover {\n",
              "      background-color: #434B5C;\n",
              "      box-shadow: 0px 1px 3px 1px rgba(0, 0, 0, 0.15);\n",
              "      filter: drop-shadow(0px 1px 2px rgba(0, 0, 0, 0.3));\n",
              "      fill: #FFFFFF;\n",
              "    }\n",
              "  </style>\n",
              "\n",
              "    <script>\n",
              "      const buttonEl =\n",
              "        document.querySelector('#df-982be196-588f-4ccf-b272-b298646324b2 button.colab-df-convert');\n",
              "      buttonEl.style.display =\n",
              "        google.colab.kernel.accessAllowed ? 'block' : 'none';\n",
              "\n",
              "      async function convertToInteractive(key) {\n",
              "        const element = document.querySelector('#df-982be196-588f-4ccf-b272-b298646324b2');\n",
              "        const dataTable =\n",
              "          await google.colab.kernel.invokeFunction('convertToInteractive',\n",
              "                                                    [key], {});\n",
              "        if (!dataTable) return;\n",
              "\n",
              "        const docLinkHtml = 'Like what you see? Visit the ' +\n",
              "          '<a target=\"_blank\" href=https://colab.research.google.com/notebooks/data_table.ipynb>data table notebook</a>'\n",
              "          + ' to learn more about interactive tables.';\n",
              "        element.innerHTML = '';\n",
              "        dataTable['output_type'] = 'display_data';\n",
              "        await google.colab.output.renderOutput(dataTable, element);\n",
              "        const docLink = document.createElement('div');\n",
              "        docLink.innerHTML = docLinkHtml;\n",
              "        element.appendChild(docLink);\n",
              "      }\n",
              "    </script>\n",
              "  </div>\n",
              "\n",
              "\n",
              "<div id=\"df-55eb5bcf-b280-40f8-bc20-3e4264be478f\">\n",
              "  <button class=\"colab-df-quickchart\" onclick=\"quickchart('df-55eb5bcf-b280-40f8-bc20-3e4264be478f')\"\n",
              "            title=\"Suggest charts.\"\n",
              "            style=\"display:none;\">\n",
              "\n",
              "<svg xmlns=\"http://www.w3.org/2000/svg\" height=\"24px\"viewBox=\"0 0 24 24\"\n",
              "     width=\"24px\">\n",
              "    <g>\n",
              "        <path d=\"M19 3H5c-1.1 0-2 .9-2 2v14c0 1.1.9 2 2 2h14c1.1 0 2-.9 2-2V5c0-1.1-.9-2-2-2zM9 17H7v-7h2v7zm4 0h-2V7h2v10zm4 0h-2v-4h2v4z\"/>\n",
              "    </g>\n",
              "</svg>\n",
              "  </button>\n",
              "\n",
              "<style>\n",
              "  .colab-df-quickchart {\n",
              "      --bg-color: #E8F0FE;\n",
              "      --fill-color: #1967D2;\n",
              "      --hover-bg-color: #E2EBFA;\n",
              "      --hover-fill-color: #174EA6;\n",
              "      --disabled-fill-color: #AAA;\n",
              "      --disabled-bg-color: #DDD;\n",
              "  }\n",
              "\n",
              "  [theme=dark] .colab-df-quickchart {\n",
              "      --bg-color: #3B4455;\n",
              "      --fill-color: #D2E3FC;\n",
              "      --hover-bg-color: #434B5C;\n",
              "      --hover-fill-color: #FFFFFF;\n",
              "      --disabled-bg-color: #3B4455;\n",
              "      --disabled-fill-color: #666;\n",
              "  }\n",
              "\n",
              "  .colab-df-quickchart {\n",
              "    background-color: var(--bg-color);\n",
              "    border: none;\n",
              "    border-radius: 50%;\n",
              "    cursor: pointer;\n",
              "    display: none;\n",
              "    fill: var(--fill-color);\n",
              "    height: 32px;\n",
              "    padding: 0;\n",
              "    width: 32px;\n",
              "  }\n",
              "\n",
              "  .colab-df-quickchart:hover {\n",
              "    background-color: var(--hover-bg-color);\n",
              "    box-shadow: 0 1px 2px rgba(60, 64, 67, 0.3), 0 1px 3px 1px rgba(60, 64, 67, 0.15);\n",
              "    fill: var(--button-hover-fill-color);\n",
              "  }\n",
              "\n",
              "  .colab-df-quickchart-complete:disabled,\n",
              "  .colab-df-quickchart-complete:disabled:hover {\n",
              "    background-color: var(--disabled-bg-color);\n",
              "    fill: var(--disabled-fill-color);\n",
              "    box-shadow: none;\n",
              "  }\n",
              "\n",
              "  .colab-df-spinner {\n",
              "    border: 2px solid var(--fill-color);\n",
              "    border-color: transparent;\n",
              "    border-bottom-color: var(--fill-color);\n",
              "    animation:\n",
              "      spin 1s steps(1) infinite;\n",
              "  }\n",
              "\n",
              "  @keyframes spin {\n",
              "    0% {\n",
              "      border-color: transparent;\n",
              "      border-bottom-color: var(--fill-color);\n",
              "      border-left-color: var(--fill-color);\n",
              "    }\n",
              "    20% {\n",
              "      border-color: transparent;\n",
              "      border-left-color: var(--fill-color);\n",
              "      border-top-color: var(--fill-color);\n",
              "    }\n",
              "    30% {\n",
              "      border-color: transparent;\n",
              "      border-left-color: var(--fill-color);\n",
              "      border-top-color: var(--fill-color);\n",
              "      border-right-color: var(--fill-color);\n",
              "    }\n",
              "    40% {\n",
              "      border-color: transparent;\n",
              "      border-right-color: var(--fill-color);\n",
              "      border-top-color: var(--fill-color);\n",
              "    }\n",
              "    60% {\n",
              "      border-color: transparent;\n",
              "      border-right-color: var(--fill-color);\n",
              "    }\n",
              "    80% {\n",
              "      border-color: transparent;\n",
              "      border-right-color: var(--fill-color);\n",
              "      border-bottom-color: var(--fill-color);\n",
              "    }\n",
              "    90% {\n",
              "      border-color: transparent;\n",
              "      border-bottom-color: var(--fill-color);\n",
              "    }\n",
              "  }\n",
              "</style>\n",
              "\n",
              "  <script>\n",
              "    async function quickchart(key) {\n",
              "      const quickchartButtonEl =\n",
              "        document.querySelector('#' + key + ' button');\n",
              "      quickchartButtonEl.disabled = true;  // To prevent multiple clicks.\n",
              "      quickchartButtonEl.classList.add('colab-df-spinner');\n",
              "      try {\n",
              "        const charts = await google.colab.kernel.invokeFunction(\n",
              "            'suggestCharts', [key], {});\n",
              "      } catch (error) {\n",
              "        console.error('Error during call to suggestCharts:', error);\n",
              "      }\n",
              "      quickchartButtonEl.classList.remove('colab-df-spinner');\n",
              "      quickchartButtonEl.classList.add('colab-df-quickchart-complete');\n",
              "    }\n",
              "    (() => {\n",
              "      let quickchartButtonEl =\n",
              "        document.querySelector('#df-55eb5bcf-b280-40f8-bc20-3e4264be478f button');\n",
              "      quickchartButtonEl.style.display =\n",
              "        google.colab.kernel.accessAllowed ? 'block' : 'none';\n",
              "    })();\n",
              "  </script>\n",
              "</div>\n",
              "    </div>\n",
              "  </div>\n"
            ]
          },
          "metadata": {},
          "execution_count": 11
        }
      ],
      "source": [
        "df.head()"
      ]
    },
    {
      "cell_type": "code",
      "execution_count": null,
      "metadata": {
        "colab": {
          "base_uri": "https://localhost:8080/"
        },
        "id": "DR17T62c9jGj",
        "outputId": "fb34ea55-f8e9-4594-91ea-355fa8215179"
      },
      "outputs": [
        {
          "output_type": "stream",
          "name": "stdout",
          "text": [
            "--2023-09-11 10:45:44--  http://nlp.stanford.edu/data/glove.6B.zip\n",
            "Resolving nlp.stanford.edu (nlp.stanford.edu)... 171.64.67.140\n",
            "Connecting to nlp.stanford.edu (nlp.stanford.edu)|171.64.67.140|:80... connected.\n",
            "HTTP request sent, awaiting response... 302 Found\n",
            "Location: https://nlp.stanford.edu/data/glove.6B.zip [following]\n",
            "--2023-09-11 10:45:44--  https://nlp.stanford.edu/data/glove.6B.zip\n",
            "Connecting to nlp.stanford.edu (nlp.stanford.edu)|171.64.67.140|:443... connected.\n",
            "HTTP request sent, awaiting response... 301 Moved Permanently\n",
            "Location: https://downloads.cs.stanford.edu/nlp/data/glove.6B.zip [following]\n",
            "--2023-09-11 10:45:45--  https://downloads.cs.stanford.edu/nlp/data/glove.6B.zip\n",
            "Resolving downloads.cs.stanford.edu (downloads.cs.stanford.edu)... 171.64.64.22\n",
            "Connecting to downloads.cs.stanford.edu (downloads.cs.stanford.edu)|171.64.64.22|:443... connected.\n",
            "HTTP request sent, awaiting response... 200 OK\n",
            "Length: 862182613 (822M) [application/zip]\n",
            "Saving to: ‘glove.6B.zip’\n",
            "\n",
            "glove.6B.zip        100%[===================>] 822.24M  4.98MB/s    in 2m 40s  \n",
            "\n",
            "2023-09-11 10:48:26 (5.13 MB/s) - ‘glove.6B.zip’ saved [862182613/862182613]\n",
            "\n"
          ]
        }
      ],
      "source": [
        "!wget http://nlp.stanford.edu/data/glove.6B.zip\n",
        "!unzip -q glove.6B.zip"
      ]
    },
    {
      "cell_type": "code",
      "execution_count": null,
      "metadata": {
        "id": "JmHeboRZ95T0"
      },
      "outputs": [],
      "source": []
    },
    {
      "cell_type": "code",
      "execution_count": null,
      "metadata": {
        "id": "1Rg7AD6d9SZM",
        "colab": {
          "base_uri": "https://localhost:8080/"
        },
        "outputId": "0282dabe-063b-4a38-b416-42712c4842b8"
      },
      "outputs": [
        {
          "output_type": "stream",
          "name": "stdout",
          "text": [
            "Found 400000 word vectors.\n"
          ]
        }
      ],
      "source": [
        "path_to_glove_file = os.path.join(\n",
        "    os.path.expanduser(\"~\"), \"/content/glove.6B.100d.txt\"\n",
        ")\n",
        "\n",
        "embeddings_index = {}\n",
        "with open(path_to_glove_file) as f:\n",
        "    for line in f:\n",
        "        word, coefs = line.split(maxsplit=1)\n",
        "        coefs = np.fromstring(coefs, \"f\", sep=\" \")\n",
        "        embeddings_index[word] = coefs\n",
        "\n",
        "print(\"Found %s word vectors.\" % len(embeddings_index))"
      ]
    },
    {
      "cell_type": "code",
      "execution_count": null,
      "metadata": {
        "id": "R2DuBjTs4_LH"
      },
      "outputs": [],
      "source": [
        "# Create the training and testing datasets\n",
        "# train_size = int(len(df) * 0.8) # Use 80% of the data for training\n",
        "# train_data = df['review_body'][:train_size]\n",
        "# test_data = df['review_body'][train_size:]\n",
        "# train_labels = np.array(df['star_rating'][:train_size] <= 2) # Negative reviews are labeled as True\n",
        "# test_labels = np.array(df['star_rating'][train_size:] <= 2)\n",
        "\n",
        "#Preprocess the data\n",
        "reviews = df['review_body'].values\n",
        "labels = df['star_rating'].apply(lambda x: 0 if x <= 2 else 1).values\n",
        "\n",
        "\n",
        "\n",
        "\n",
        "# Tokenize the text data\n",
        "tokenizer = Tokenizer(num_words=10000,filters='!\"#$%&()*+,-./:;<=>?@[\\\\]^_`{|}~\\t\\n',\n",
        "                      lower=True, split=' ', char_level=False\n",
        "                      )\n",
        "tokenizer.fit_on_texts(reviews)\n",
        "sequences = tokenizer.texts_to_sequences(reviews)\n",
        "\n",
        "max_sequence_length = max(len(seq) for seq in sequences)\n",
        "sequences = pad_sequences(sequences, maxlen=max_sequence_length)\n",
        "\n",
        "# Create word embedding matrix\n",
        "word_index = tokenizer.word_index\n",
        "vocab_size = len(word_index) + 1\n",
        "\n",
        "embedding_dim = 100  # Adjust the embedding dimension as needed\n",
        "embedding_matrix = np.zeros((vocab_size, embedding_dim))\n",
        "\n",
        "# Load pre-trained word embeddings (e.g., GloVe embeddings)\n",
        "# Replace 'glove.6B.100d.txt' with the path to your pre-trained word embeddings file\n",
        "embeddings_index = {}\n",
        "with open('glove.6B.100d.txt', encoding='utf-8') as f:\n",
        "    for line in f:\n",
        "        values = line.split()\n",
        "        word = values[0]\n",
        "        coefs = np.asarray(values[1:], dtype='float32')\n",
        "        embeddings_index[word] = coefs\n",
        "\n",
        "for word, i in word_index.items():\n",
        "    embedding_vector = embeddings_index.get(word)\n",
        "    if embedding_vector is not None:\n",
        "        embedding_matrix[i] = embedding_vector\n",
        "\n",
        "# Split the data into training and testing sets\n",
        "train_size = int(0.8 * len(sequences))\n",
        "\n",
        "X_train = sequences[:train_size]\n",
        "y_train = labels[:train_size]\n",
        "X_test = sequences[train_size:]\n",
        "y_test = labels[train_size:]\n",
        "\n",
        "\n",
        "\n",
        "\n"
      ]
    },
    {
      "cell_type": "code",
      "execution_count": null,
      "metadata": {
        "id": "fefb5jr8C6Wo"
      },
      "outputs": [],
      "source": [
        "from keras import backend as K\n",
        "\n",
        "def recall_m(y_true,y_pred):\n",
        "  true_pos = K.sum(K.round(K.clip(y_true*y_pred,0,1)))\n",
        "  possible_positives = K.sum(K.round(K.clip(y_true, 0, 1)))\n",
        "  recall = true_pos / (possible_positives + K.epsilon())\n",
        "  return recall\n",
        "\n",
        "def precision_m(y_true, y_pred):\n",
        "  true_pos = K.sum(K.round(K.clip(y_true * y_pred, 0, 1)))\n",
        "  predicted_positives = K.sum(K.round(K.clip(y_pred, 0, 1)))\n",
        "  precision = true_pos / (predicted_positives + K.epsilon())\n",
        "  return precision\n",
        "\n",
        "\n",
        "def f1_m(y_true, y_pred):\n",
        "  precision = precision_m(y_true, y_pred)\n",
        "  recall = recall_m(y_true, y_pred)\n",
        "  return 2*((precision*recall)/(precision+recall+K.epsilon()))"
      ]
    },
    {
      "cell_type": "code",
      "execution_count": null,
      "metadata": {
        "colab": {
          "base_uri": "https://localhost:8080/"
        },
        "id": "Ne-_VZhi5AQY",
        "outputId": "ec7625d7-e602-42ad-d3ea-8c2dfd028449"
      },
      "outputs": [
        {
          "output_type": "stream",
          "name": "stderr",
          "text": [
            "WARNING:absl:`lr` is deprecated in Keras optimizer, please use `learning_rate` or use the legacy optimizer, e.g.,tf.keras.optimizers.legacy.Adam.\n"
          ]
        },
        {
          "output_type": "stream",
          "name": "stdout",
          "text": [
            "Model: \"sequential\"\n",
            "_________________________________________________________________\n",
            " Layer (type)                Output Shape              Param #   \n",
            "=================================================================\n",
            " embedding (Embedding)       (None, None, 100)         8388000   \n",
            "                                                                 \n",
            " dropout (Dropout)           (None, None, 100)         0         \n",
            "                                                                 \n",
            " conv1d (Conv1D)             (None, None, 64)          32064     \n",
            "                                                                 \n",
            " max_pooling1d (MaxPooling1  (None, None, 64)          0         \n",
            " D)                                                              \n",
            "                                                                 \n",
            " lstm (LSTM)                 (None, 64)                33024     \n",
            "                                                                 \n",
            " dense (Dense)               (None, 1)                 65        \n",
            "                                                                 \n",
            "=================================================================\n",
            "Total params: 8453153 (32.25 MB)\n",
            "Trainable params: 65153 (254.50 KB)\n",
            "Non-trainable params: 8388000 (32.00 MB)\n",
            "_________________________________________________________________\n",
            "Epoch 1/50\n",
            "1250/1250 [==============================] - 67s 41ms/step - loss: 0.3534 - accuracy: 0.8472 - f1_m: 0.9103 - precision_m: 0.8674 - recall_m: 0.9613 - val_loss: 0.2666 - val_accuracy: 0.8874 - val_f1_m: 0.9333 - val_precision_m: 0.9023 - val_recall_m: 0.9677\n",
            "Epoch 2/50\n",
            "1250/1250 [==============================] - 51s 41ms/step - loss: 0.2807 - accuracy: 0.8797 - f1_m: 0.9279 - precision_m: 0.9034 - recall_m: 0.9559 - val_loss: 0.2433 - val_accuracy: 0.8975 - val_f1_m: 0.9390 - val_precision_m: 0.9122 - val_recall_m: 0.9685\n",
            "Epoch 3/50\n",
            "1250/1250 [==============================] - 50s 40ms/step - loss: 0.2574 - accuracy: 0.8917 - f1_m: 0.9347 - precision_m: 0.9143 - recall_m: 0.9578 - val_loss: 0.2345 - val_accuracy: 0.9012 - val_f1_m: 0.9416 - val_precision_m: 0.9087 - val_recall_m: 0.9779\n",
            "Epoch 4/50\n",
            "1250/1250 [==============================] - 49s 39ms/step - loss: 0.2420 - accuracy: 0.8986 - f1_m: 0.9386 - precision_m: 0.9201 - recall_m: 0.9595 - val_loss: 0.2366 - val_accuracy: 0.8992 - val_f1_m: 0.9406 - val_precision_m: 0.9035 - val_recall_m: 0.9820\n",
            "Epoch 5/50\n",
            "1250/1250 [==============================] - 50s 40ms/step - loss: 0.2320 - accuracy: 0.9034 - f1_m: 0.9415 - precision_m: 0.9249 - recall_m: 0.9601 - val_loss: 0.2230 - val_accuracy: 0.9087 - val_f1_m: 0.9452 - val_precision_m: 0.9239 - val_recall_m: 0.9686\n",
            "Epoch 6/50\n",
            "1250/1250 [==============================] - 50s 40ms/step - loss: 0.2258 - accuracy: 0.9059 - f1_m: 0.9429 - precision_m: 0.9279 - recall_m: 0.9598 - val_loss: 0.2198 - val_accuracy: 0.9072 - val_f1_m: 0.9447 - val_precision_m: 0.9169 - val_recall_m: 0.9753\n",
            "Epoch 7/50\n",
            "1250/1250 [==============================] - 49s 39ms/step - loss: 0.2178 - accuracy: 0.9090 - f1_m: 0.9448 - precision_m: 0.9303 - recall_m: 0.9609 - val_loss: 0.2102 - val_accuracy: 0.9124 - val_f1_m: 0.9468 - val_precision_m: 0.9374 - val_recall_m: 0.9574\n",
            "Epoch 8/50\n",
            "1250/1250 [==============================] - 49s 40ms/step - loss: 0.2137 - accuracy: 0.9098 - f1_m: 0.9451 - precision_m: 0.9316 - recall_m: 0.9604 - val_loss: 0.2100 - val_accuracy: 0.9133 - val_f1_m: 0.9476 - val_precision_m: 0.9309 - val_recall_m: 0.9658\n",
            "Epoch 9/50\n",
            "1250/1250 [==============================] - 49s 39ms/step - loss: 0.2093 - accuracy: 0.9122 - f1_m: 0.9465 - precision_m: 0.9338 - recall_m: 0.9610 - val_loss: 0.2078 - val_accuracy: 0.9146 - val_f1_m: 0.9482 - val_precision_m: 0.9366 - val_recall_m: 0.9609\n",
            "Epoch 10/50\n",
            "1250/1250 [==============================] - 53s 42ms/step - loss: 0.2069 - accuracy: 0.9129 - f1_m: 0.9470 - precision_m: 0.9350 - recall_m: 0.9606 - val_loss: 0.2046 - val_accuracy: 0.9143 - val_f1_m: 0.9482 - val_precision_m: 0.9331 - val_recall_m: 0.9646\n",
            "Epoch 11/50\n",
            "1250/1250 [==============================] - 49s 39ms/step - loss: 0.2006 - accuracy: 0.9156 - f1_m: 0.9486 - precision_m: 0.9374 - recall_m: 0.9612 - val_loss: 0.2157 - val_accuracy: 0.9121 - val_f1_m: 0.9474 - val_precision_m: 0.9232 - val_recall_m: 0.9738\n",
            "Epoch 12/50\n",
            "1250/1250 [==============================] - 49s 40ms/step - loss: 0.1951 - accuracy: 0.9184 - f1_m: 0.9502 - precision_m: 0.9392 - recall_m: 0.9627 - val_loss: 0.2135 - val_accuracy: 0.9148 - val_f1_m: 0.9484 - val_precision_m: 0.9357 - val_recall_m: 0.9624\n",
            "Epoch 13/50\n",
            "1250/1250 [==============================] - 50s 40ms/step - loss: 0.1937 - accuracy: 0.9199 - f1_m: 0.9511 - precision_m: 0.9407 - recall_m: 0.9627 - val_loss: 0.2144 - val_accuracy: 0.9136 - val_f1_m: 0.9477 - val_precision_m: 0.9322 - val_recall_m: 0.9646\n",
            "Epoch 14/50\n",
            "1250/1250 [==============================] - 50s 40ms/step - loss: 0.1916 - accuracy: 0.9195 - f1_m: 0.9508 - precision_m: 0.9412 - recall_m: 0.9618 - val_loss: 0.2102 - val_accuracy: 0.9125 - val_f1_m: 0.9472 - val_precision_m: 0.9305 - val_recall_m: 0.9655\n",
            "Epoch 15/50\n",
            "1250/1250 [==============================] - 50s 40ms/step - loss: 0.1892 - accuracy: 0.9213 - f1_m: 0.9520 - precision_m: 0.9417 - recall_m: 0.9638 - val_loss: 0.2104 - val_accuracy: 0.9118 - val_f1_m: 0.9457 - val_precision_m: 0.9473 - val_recall_m: 0.9450\n",
            "Epoch 16/50\n",
            "1250/1250 [==============================] - 50s 40ms/step - loss: 0.1872 - accuracy: 0.9218 - f1_m: 0.9522 - precision_m: 0.9425 - recall_m: 0.9632 - val_loss: 0.2114 - val_accuracy: 0.9132 - val_f1_m: 0.9470 - val_precision_m: 0.9407 - val_recall_m: 0.9543\n",
            "Epoch 17/50\n",
            "1250/1250 [==============================] - 49s 39ms/step - loss: 0.1808 - accuracy: 0.9241 - f1_m: 0.9537 - precision_m: 0.9442 - recall_m: 0.9643 - val_loss: 0.2117 - val_accuracy: 0.9128 - val_f1_m: 0.9466 - val_precision_m: 0.9438 - val_recall_m: 0.9501\n",
            "Epoch 18/50\n",
            "1250/1250 [==============================] - 49s 39ms/step - loss: 0.1801 - accuracy: 0.9243 - f1_m: 0.9538 - precision_m: 0.9449 - recall_m: 0.9639 - val_loss: 0.2132 - val_accuracy: 0.9118 - val_f1_m: 0.9459 - val_precision_m: 0.9429 - val_recall_m: 0.9498\n",
            "Epoch 19/50\n",
            "1250/1250 [==============================] - 49s 39ms/step - loss: 0.1774 - accuracy: 0.9261 - f1_m: 0.9548 - precision_m: 0.9460 - recall_m: 0.9647 - val_loss: 0.2200 - val_accuracy: 0.9089 - val_f1_m: 0.9437 - val_precision_m: 0.9498 - val_recall_m: 0.9386\n",
            "Epoch 20/50\n",
            "1250/1250 [==============================] - 49s 39ms/step - loss: 0.1769 - accuracy: 0.9258 - f1_m: 0.9547 - precision_m: 0.9463 - recall_m: 0.9643 - val_loss: 0.2137 - val_accuracy: 0.9130 - val_f1_m: 0.9467 - val_precision_m: 0.9438 - val_recall_m: 0.9506\n",
            "Epoch 21/50\n",
            "1250/1250 [==============================] - 49s 39ms/step - loss: 0.1762 - accuracy: 0.9257 - f1_m: 0.9546 - precision_m: 0.9459 - recall_m: 0.9644 - val_loss: 0.2185 - val_accuracy: 0.9133 - val_f1_m: 0.9474 - val_precision_m: 0.9350 - val_recall_m: 0.9609\n",
            "Epoch 22/50\n",
            "1250/1250 [==============================] - 49s 39ms/step - loss: 0.1712 - accuracy: 0.9296 - f1_m: 0.9569 - precision_m: 0.9490 - recall_m: 0.9659 - val_loss: 0.2137 - val_accuracy: 0.9122 - val_f1_m: 0.9468 - val_precision_m: 0.9337 - val_recall_m: 0.9612\n",
            "Epoch 23/50\n",
            "1250/1250 [==============================] - 49s 39ms/step - loss: 0.1719 - accuracy: 0.9287 - f1_m: 0.9564 - precision_m: 0.9481 - recall_m: 0.9658 - val_loss: 0.2152 - val_accuracy: 0.9097 - val_f1_m: 0.9445 - val_precision_m: 0.9464 - val_recall_m: 0.9434\n",
            "Epoch 24/50\n",
            "1250/1250 [==============================] - 49s 39ms/step - loss: 0.1688 - accuracy: 0.9301 - f1_m: 0.9572 - precision_m: 0.9495 - recall_m: 0.9659 - val_loss: 0.2191 - val_accuracy: 0.9131 - val_f1_m: 0.9469 - val_precision_m: 0.9399 - val_recall_m: 0.9548\n",
            "Epoch 25/50\n",
            "1250/1250 [==============================] - 49s 39ms/step - loss: 0.1670 - accuracy: 0.9300 - f1_m: 0.9572 - precision_m: 0.9494 - recall_m: 0.9659 - val_loss: 0.2219 - val_accuracy: 0.9123 - val_f1_m: 0.9470 - val_precision_m: 0.9299 - val_recall_m: 0.9657\n",
            "Epoch 26/50\n",
            "1250/1250 [==============================] - 49s 39ms/step - loss: 0.1664 - accuracy: 0.9300 - f1_m: 0.9571 - precision_m: 0.9499 - recall_m: 0.9653 - val_loss: 0.2216 - val_accuracy: 0.9121 - val_f1_m: 0.9464 - val_precision_m: 0.9375 - val_recall_m: 0.9563\n",
            "Epoch 27/50\n",
            "1250/1250 [==============================] - 48s 39ms/step - loss: 0.1639 - accuracy: 0.9323 - f1_m: 0.9586 - precision_m: 0.9512 - recall_m: 0.9670 - val_loss: 0.2184 - val_accuracy: 0.9118 - val_f1_m: 0.9461 - val_precision_m: 0.9395 - val_recall_m: 0.9536\n",
            "Epoch 28/50\n",
            "1250/1250 [==============================] - 49s 39ms/step - loss: 0.1628 - accuracy: 0.9325 - f1_m: 0.9587 - precision_m: 0.9514 - recall_m: 0.9670 - val_loss: 0.2214 - val_accuracy: 0.9111 - val_f1_m: 0.9455 - val_precision_m: 0.9420 - val_recall_m: 0.9497\n",
            "Epoch 29/50\n",
            "1250/1250 [==============================] - 49s 39ms/step - loss: 0.1633 - accuracy: 0.9315 - f1_m: 0.9580 - precision_m: 0.9509 - recall_m: 0.9662 - val_loss: 0.2211 - val_accuracy: 0.9133 - val_f1_m: 0.9470 - val_precision_m: 0.9410 - val_recall_m: 0.9539\n",
            "Epoch 30/50\n",
            "1250/1250 [==============================] - 49s 39ms/step - loss: 0.1617 - accuracy: 0.9329 - f1_m: 0.9589 - precision_m: 0.9516 - recall_m: 0.9672 - val_loss: 0.2319 - val_accuracy: 0.9108 - val_f1_m: 0.9452 - val_precision_m: 0.9431 - val_recall_m: 0.9482\n",
            "Epoch 31/50\n",
            "1250/1250 [==============================] - 50s 40ms/step - loss: 0.1628 - accuracy: 0.9324 - f1_m: 0.9587 - precision_m: 0.9516 - recall_m: 0.9666 - val_loss: 0.2317 - val_accuracy: 0.9135 - val_f1_m: 0.9477 - val_precision_m: 0.9298 - val_recall_m: 0.9672\n",
            "Epoch 32/50\n",
            "1250/1250 [==============================] - 51s 41ms/step - loss: 0.1598 - accuracy: 0.9342 - f1_m: 0.9597 - precision_m: 0.9530 - recall_m: 0.9673 - val_loss: 0.2270 - val_accuracy: 0.9127 - val_f1_m: 0.9470 - val_precision_m: 0.9345 - val_recall_m: 0.9608\n",
            "Epoch 33/50\n",
            "1250/1250 [==============================] - 50s 40ms/step - loss: 0.1582 - accuracy: 0.9342 - f1_m: 0.9596 - precision_m: 0.9525 - recall_m: 0.9677 - val_loss: 0.2357 - val_accuracy: 0.9107 - val_f1_m: 0.9455 - val_precision_m: 0.9383 - val_recall_m: 0.9537\n",
            "Epoch 34/50\n",
            "1250/1250 [==============================] - 50s 40ms/step - loss: 0.1572 - accuracy: 0.9348 - f1_m: 0.9602 - precision_m: 0.9531 - recall_m: 0.9681 - val_loss: 0.2335 - val_accuracy: 0.9088 - val_f1_m: 0.9436 - val_precision_m: 0.9492 - val_recall_m: 0.9390\n",
            "Epoch 35/50\n",
            "1250/1250 [==============================] - 50s 40ms/step - loss: 0.1589 - accuracy: 0.9338 - f1_m: 0.9594 - precision_m: 0.9527 - recall_m: 0.9671 - val_loss: 0.2305 - val_accuracy: 0.9130 - val_f1_m: 0.9473 - val_precision_m: 0.9327 - val_recall_m: 0.9633\n",
            "Epoch 36/50\n",
            "1250/1250 [==============================] - 49s 39ms/step - loss: 0.1558 - accuracy: 0.9348 - f1_m: 0.9601 - precision_m: 0.9530 - recall_m: 0.9682 - val_loss: 0.2291 - val_accuracy: 0.9105 - val_f1_m: 0.9451 - val_precision_m: 0.9427 - val_recall_m: 0.9485\n",
            "Epoch 37/50\n",
            "1250/1250 [==============================] - 49s 39ms/step - loss: 0.1556 - accuracy: 0.9358 - f1_m: 0.9606 - precision_m: 0.9542 - recall_m: 0.9680 - val_loss: 0.2313 - val_accuracy: 0.9132 - val_f1_m: 0.9472 - val_precision_m: 0.9354 - val_recall_m: 0.9602\n",
            "Epoch 38/50\n",
            "1250/1250 [==============================] - 49s 39ms/step - loss: 0.1547 - accuracy: 0.9351 - f1_m: 0.9602 - precision_m: 0.9540 - recall_m: 0.9673 - val_loss: 0.2208 - val_accuracy: 0.9112 - val_f1_m: 0.9456 - val_precision_m: 0.9402 - val_recall_m: 0.9520\n",
            "Epoch 39/50\n",
            "1250/1250 [==============================] - 50s 40ms/step - loss: 0.1541 - accuracy: 0.9356 - f1_m: 0.9605 - precision_m: 0.9535 - recall_m: 0.9685 - val_loss: 0.2292 - val_accuracy: 0.9108 - val_f1_m: 0.9453 - val_precision_m: 0.9424 - val_recall_m: 0.9491\n",
            "Epoch 40/50\n",
            "1250/1250 [==============================] - 50s 40ms/step - loss: 0.1526 - accuracy: 0.9373 - f1_m: 0.9615 - precision_m: 0.9547 - recall_m: 0.9692 - val_loss: 0.2322 - val_accuracy: 0.9116 - val_f1_m: 0.9464 - val_precision_m: 0.9323 - val_recall_m: 0.9619\n",
            "Epoch 41/50\n",
            "1250/1250 [==============================] - 50s 40ms/step - loss: 0.1530 - accuracy: 0.9360 - f1_m: 0.9607 - precision_m: 0.9543 - recall_m: 0.9681 - val_loss: 0.2359 - val_accuracy: 0.9074 - val_f1_m: 0.9428 - val_precision_m: 0.9451 - val_recall_m: 0.9414\n",
            "Epoch 42/50\n",
            "1250/1250 [==============================] - 50s 40ms/step - loss: 0.1523 - accuracy: 0.9375 - f1_m: 0.9617 - precision_m: 0.9551 - recall_m: 0.9691 - val_loss: 0.2288 - val_accuracy: 0.9112 - val_f1_m: 0.9458 - val_precision_m: 0.9403 - val_recall_m: 0.9523\n",
            "Epoch 43/50\n",
            "1250/1250 [==============================] - 50s 40ms/step - loss: 0.1506 - accuracy: 0.9378 - f1_m: 0.9619 - precision_m: 0.9552 - recall_m: 0.9694 - val_loss: 0.2327 - val_accuracy: 0.9116 - val_f1_m: 0.9460 - val_precision_m: 0.9396 - val_recall_m: 0.9535\n",
            "Epoch 44/50\n",
            "1250/1250 [==============================] - 51s 40ms/step - loss: 0.1517 - accuracy: 0.9373 - f1_m: 0.9616 - precision_m: 0.9549 - recall_m: 0.9692 - val_loss: 0.2393 - val_accuracy: 0.9117 - val_f1_m: 0.9463 - val_precision_m: 0.9345 - val_recall_m: 0.9593\n",
            "Epoch 45/50\n",
            "1250/1250 [==============================] - 50s 40ms/step - loss: 0.1496 - accuracy: 0.9378 - f1_m: 0.9619 - precision_m: 0.9560 - recall_m: 0.9685 - val_loss: 0.2404 - val_accuracy: 0.9087 - val_f1_m: 0.9441 - val_precision_m: 0.9384 - val_recall_m: 0.9509\n",
            "Epoch 46/50\n",
            "1250/1250 [==============================] - 50s 40ms/step - loss: 0.1505 - accuracy: 0.9378 - f1_m: 0.9619 - precision_m: 0.9555 - recall_m: 0.9691 - val_loss: 0.2417 - val_accuracy: 0.9114 - val_f1_m: 0.9464 - val_precision_m: 0.9303 - val_recall_m: 0.9640\n",
            "Epoch 47/50\n",
            "1250/1250 [==============================] - 49s 39ms/step - loss: 0.1497 - accuracy: 0.9386 - f1_m: 0.9624 - precision_m: 0.9560 - recall_m: 0.9697 - val_loss: 0.2348 - val_accuracy: 0.9118 - val_f1_m: 0.9464 - val_precision_m: 0.9361 - val_recall_m: 0.9579\n",
            "Epoch 48/50\n",
            "1250/1250 [==============================] - 49s 39ms/step - loss: 0.1479 - accuracy: 0.9388 - f1_m: 0.9625 - precision_m: 0.9562 - recall_m: 0.9696 - val_loss: 0.2395 - val_accuracy: 0.9097 - val_f1_m: 0.9452 - val_precision_m: 0.9338 - val_recall_m: 0.9579\n",
            "Epoch 49/50\n",
            "1250/1250 [==============================] - 49s 40ms/step - loss: 0.1478 - accuracy: 0.9386 - f1_m: 0.9624 - precision_m: 0.9568 - recall_m: 0.9689 - val_loss: 0.2440 - val_accuracy: 0.9097 - val_f1_m: 0.9449 - val_precision_m: 0.9371 - val_recall_m: 0.9538\n",
            "Epoch 50/50\n",
            "1250/1250 [==============================] - 50s 40ms/step - loss: 0.1479 - accuracy: 0.9388 - f1_m: 0.9624 - precision_m: 0.9563 - recall_m: 0.9695 - val_loss: 0.2400 - val_accuracy: 0.9082 - val_f1_m: 0.9437 - val_precision_m: 0.9393 - val_recall_m: 0.9491\n",
            "CPU times: user 40min 6s, sys: 1min 2s, total: 41min 9s\n",
            "Wall time: 42min 31s\n"
          ]
        }
      ],
      "source": [
        "# Build the RNN model\n",
        "%%time\n",
        "with tf.device(\"/device:GPU:0\"):\n",
        "  model = Sequential()\n",
        "  model.add(Embedding(len(word_index) + 1, embedding_dim, weights=[embedding_matrix],trainable = False))\n",
        "\n",
        "  model.add(Dropout(0.35))\n",
        "  model.add(Conv1D(filters =64 ,kernel_size = 5,padding='valid',activation='relu',strides=1))\n",
        "  model.add(MaxPooling1D(pool_size= 4))\n",
        "\n",
        "  model.add(LSTM(64))\n",
        "  model.add(Dense(1, activation='sigmoid'))\n",
        "  model.compile(loss='binary_crossentropy',\n",
        "                optimizer= tf.keras.optimizers.Adam(lr=0.01),\n",
        "                metrics= ['accuracy',f1_m,precision_m, recall_m])\n",
        "\n",
        "  model.summary()\n",
        "  # Train the model\n",
        "  # rnn_mdl = model.fit(train_seq, train_labels,\n",
        "  #           validation_data=(test_seq, test_labels),\n",
        "  #           epochs=50,\n",
        "  #           batch_size=64)\n",
        "\n",
        "  rnn_mdl = model.fit(X_train, y_train, batch_size=64, epochs=50, validation_data=(X_test, y_test))\n",
        "\n"
      ]
    },
    {
      "cell_type": "code",
      "source": [],
      "metadata": {
        "id": "yhm4BjTo27zp"
      },
      "execution_count": null,
      "outputs": []
    },
    {
      "cell_type": "code",
      "execution_count": null,
      "metadata": {
        "id": "ICUo_uCyBfVb"
      },
      "outputs": [],
      "source": [
        "import matplotlib.pyplot as plt\n",
        "\n",
        "plt.style.use(\"ggplot\")\n",
        "\n",
        "def plot_mdl(rnn_mdl):\n",
        "  accuracy = rnn_mdl.history['accuracy']\n",
        "  val_accuracy = rnn_mdl.history['val_accuracy']\n",
        "  loss = rnn_mdl.history['loss']\n",
        "  val_loss = rnn_mdl.history['val_loss']\n",
        "  x = range(1,len(accuracy)+1)\n",
        "\n",
        "  plt.figure(figsize=(12, 5))\n",
        "  plt.subplot(1, 2, 1)\n",
        "  plt.plot(x, accuracy, 'b', label='Train_accuracy')\n",
        "  plt.plot(x, val_accuracy, 'ro', label='Val_accuracy')\n",
        "  plt.title('Training vs validation accuracy')\n",
        "  plt.legend()\n",
        "\n",
        "  plt.subplot(1, 2, 2)\n",
        "  plt.plot(x, loss, 'b', label='Train_loss')\n",
        "  plt.plot(x, val_loss, 'o', label='Val_loss')\n",
        "  plt.title('Training vs validation loss')\n",
        "  plt.legend()\n",
        "\n"
      ]
    },
    {
      "cell_type": "code",
      "execution_count": null,
      "metadata": {
        "colab": {
          "base_uri": "https://localhost:8080/",
          "height": 529
        },
        "id": "Y5SAEzGYI06q",
        "outputId": "3c00f130-ba8c-48e0-a54b-aa710c533810"
      },
      "outputs": [
        {
          "output_type": "stream",
          "name": "stdout",
          "text": [
            "--Classify negative and non-negative customer reviews, Model 1--\n",
            "Training Accuracy: 0.9686 Training F1 Score: 0.9804\n",
            "Training Precision: 0.9807 Training Recall: 0.9810\n",
            "625/625 [==============================] - 9s 15ms/step - loss: 0.2400 - accuracy: 0.9082 - f1_m: 0.9432 - precision_m: 0.9393 - recall_m: 0.9491\n",
            "Test Loss: 0.23995427787303925, Test Accuracy: 0.9081500172615051\n",
            "Test Precision: 0.9393 Test Recall: 0.9491\n"
          ]
        },
        {
          "output_type": "display_data",
          "data": {
            "text/plain": [
              "<Figure size 1200x500 with 2 Axes>"
            ],
            "image/png": "[encoded data removed]"
          },
          "metadata": {}
        }
      ],
      "source": [
        "loss, accuracy, f1_score, precision, recall = model.evaluate(X_train, y_train,verbose=False)\n",
        "\n",
        "print(\"--Classify negative and non-negative customer reviews, Model 1--\")\n",
        "print(\"Training Accuracy: {:.4f} Training F1 Score: {:.4f}\".format(accuracy,f1_score))\n",
        "print(\"Training Precision: {:.4f} Training Recall: {:.4f}\".format(precision, recall))\n",
        "\n",
        "# Evaluate the model\n",
        "loss, accuracy,f1_score, precision, recall = model.evaluate(X_test, y_test)\n",
        "print(f'Test Loss: {loss}, Test Accuracy: {accuracy}')\n",
        "print(\"Test Precision: {:.4f} Test Recall: {:.4f}\".format(precision, recall))\n",
        "\n",
        "plot_mdl(rnn_mdl)\n",
        "\n"
      ]
    },
    {
      "cell_type": "code",
      "source": [
        "# Visualize training history\n",
        "\n",
        "print(rnn_mdl.history.keys())\n",
        "# summarize history for accuracy\n",
        "plt.plot(rnn_mdl.history['accuracy'])\n",
        "plt.plot(rnn_mdl.history['val_accuracy'])\n",
        "plt.title('Training vs validation accuracy')\n",
        "plt.ylabel('accuracy')\n",
        "plt.xlabel('epoch')\n",
        "plt.legend(['train_Accuracy', 'test_Accuracy'], loc='upper left')\n",
        "plt.show()\n",
        "# summarize history for loss\n",
        "plt.plot(rnn_mdl.history['loss'])\n",
        "plt.plot(rnn_mdl.history['val_loss'])\n",
        "plt.title('Training vs Validation loss')\n",
        "plt.ylabel('loss')\n",
        "plt.xlabel('epoch')\n",
        "plt.legend(['train_loss', 'val_loss'], loc='upper right')\n",
        "plt.style.use('classic')\n",
        "# plt.grid(False)\n",
        "\n",
        "plt.show()"
      ],
      "metadata": {
        "colab": {
          "base_uri": "https://localhost:8080/",
          "height": 940
        },
        "id": "Kf6uE1Jmi3P7",
        "outputId": "1f209664-31be-4531-b05c-a8c638f1b166"
      },
      "execution_count": null,
      "outputs": [
        {
          "output_type": "stream",
          "name": "stdout",
          "text": [
            "dict_keys(['loss', 'accuracy', 'f1_m', 'precision_m', 'recall_m', 'val_loss', 'val_accuracy', 'val_f1_m', 'val_precision_m', 'val_recall_m'])\n"
          ]
        },
        {
          "output_type": "display_data",
          "data": {
            "text/plain": [
              "<Figure size 640x480 with 1 Axes>"
            ],
            "image/png": "[encoded data removed]"
          },
          "metadata": {}
        },
        {
          "output_type": "display_data",
          "data": {
            "text/plain": [
              "<Figure size 640x480 with 1 Axes>"
            ],
            "image/png": "[encoded data removed]"
          },
          "metadata": {}
        }
      ]
    },
    {
      "cell_type": "code",
      "source": [
        "# summarize history for accuracy\n",
        "plt.plot(rnn_mdl.history['loss'])\n",
        "plt.plot(rnn_mdl.history['val_loss'])\n",
        "\n",
        "plt.title('Experiment for AL-RNN with different batch sizes')\n",
        "plt.ylabel('accuracy')\n",
        "plt.xlabel('epoch')\n",
        "plt.legend(['final_mdl_acc','final_mdl_test'], loc='lower right')\n",
        "plt.show()"
      ],
      "metadata": {
        "colab": {
          "base_uri": "https://localhost:8080/",
          "height": 477
        },
        "id": "RMSZJpL1FpTY",
        "outputId": "17604e33-5a31-41b9-ce11-cee4ac0f4dac"
      },
      "execution_count": null,
      "outputs": [
        {
          "output_type": "display_data",
          "data": {
            "text/plain": [
              "<Figure size 640x480 with 1 Axes>"
            ],
            "image/png": "[encoded data removed]"
          },
          "metadata": {}
        }
      ]
    },
    {
      "cell_type": "code",
      "source": [
        "  # summarize history for loss\n",
        "# plt.style.use()\n",
        "plt.rcdefaults()\n",
        "plt.plot(rnn_mdl.history['loss'])\n",
        "plt.plot(rnn_mdl.history['val_loss'])\n",
        "plt.title('Training vs Validation loss')\n",
        "plt.ylabel('loss')\n",
        "plt.xlabel('epoch')\n",
        "plt.legend(['train_loss', 'val_loss'], loc='upper right')\n",
        "\n",
        "# plt.grid(False)\n",
        "# plt.style.use('classic')\n",
        "plt.show()"
      ],
      "metadata": {
        "colab": {
          "base_uri": "https://localhost:8080/",
          "height": 472
        },
        "id": "WOSoY-SgGxO3",
        "outputId": "4c6e88ea-9463-4d33-d0f3-5fb60fbb9cf5"
      },
      "execution_count": null,
      "outputs": [
        {
          "output_type": "display_data",
          "data": {
            "text/plain": [
              "<Figure size 640x480 with 1 Axes>"
            ],
            "image/png": "[encoded data removed]"
          },
          "metadata": {}
        }
      ]
    },
    {
      "cell_type": "code",
      "source": [
        "from sklearn.model_selection import train_test_split\n",
        "from sklearn.feature_extraction.text import CountVectorizer\n",
        "from sklearn.metrics import f1_score,auc ,roc_curve,precision_score, recall_score,confusion_matrix\n"
      ],
      "metadata": {
        "id": "U5peOTvQqxic"
      },
      "execution_count": null,
      "outputs": []
    },
    {
      "cell_type": "code",
      "source": [
        "y_pred_keras = model.predict(X_test).ravel()\n",
        "fpr_keras, tpr_keras, thresholds_keras = roc_curve(y_test, y_pred_keras)\n",
        "auc_keras = auc(fpr_keras, tpr_keras)\n",
        "plt.figure(1)\n",
        "plt.plot([0, 1], [0, 1], 'k--')\n",
        "plt.plot(fpr_keras, tpr_keras, label='AUC = {:.3f})'.format(auc_keras))\n",
        "plt.xlabel('False positive rate')\n",
        "plt.ylabel('True positive rate')\n",
        "plt.title('ROC curve')\n",
        "plt.legend(loc='best')\n",
        "plt.show()"
      ],
      "metadata": {
        "id": "Rf6dKfMfqYTC"
      },
      "execution_count": null,
      "outputs": []
    },
    {
      "cell_type": "code",
      "source": [
        "import numpy as np\n",
        "from scipy.stats import ttest_ind, mannwhitneyu"
      ],
      "metadata": {
        "id": "rSSor5hr38bt"
      },
      "execution_count": null,
      "outputs": []
    },
    {
      "cell_type": "code",
      "source": [
        "# Accuracy data for Group 1\n",
        "group1_accuracy = [0.9079, 0.9678, 0.9395,9082,0.9101]\n",
        "\n",
        "# Accuracy data for Group 2\n",
        "group2_accuracy = [0.8795,0.8800,0.8810,0.8730,0.8795]\n",
        "\n",
        "# Perform t-test\n",
        "t_statistic, p_value_t = ttest_ind(group1_accuracy, group2_accuracy)\n",
        "\n",
        "# Perform Mann-Whitney U test\n",
        "u_statistic, p_value_u = mannwhitneyu(group1_accuracy, group2_accuracy)\n",
        "\n",
        "# Print the results\n",
        "print(\"T-Test:\")\n",
        "print(\"T-Statistic:\", t_statistic)\n",
        "print(\"P-Value:\", p_value_t)\n",
        "\n",
        "print(\"\\nMann-Whitney U Test:\")\n",
        "print(\"U-Statistic:\", u_statistic)\n",
        "print(\"P-Value:\", p_value_u)"
      ],
      "metadata": {
        "id": "FcsNfnyMttLR"
      },
      "execution_count": null,
      "outputs": []
    },
    {
      "cell_type": "code",
      "source": [
        "from scipy import stats\n",
        "\n",
        "# total number of test reviews\n",
        "test_reviews = 2000\n",
        "# Number of successes (accurately predicted reviews) = int(0.9079 * test_reviews)\n",
        "accurate_predictions = 1815\n",
        "# Null hypothesis (expected probability of success)\n",
        "null_hypothesis = 0.5\n",
        "\n",
        "# Perform binomial test\n",
        "p_value = stats.binom_test(accurate_predictions, test_reviews, null_hypothesis)\n",
        "\n",
        "# Calculate the expected number of successes under the null hypothesis\n",
        "expected_successes = null_hypothesis * test_reviews\n",
        "\n",
        "# Calculate the test statistic\n",
        "test_statistic = (accurate_predictions - expected_successes) / (test_reviews * null_hypothesis * (1 - null_hypothesis))**0.5\n",
        "\n",
        "print(\"Binomial Test:\")\n",
        "# Print the test statistic\n",
        "print(\"Test statistic:\", test_statistic)\n",
        "# Print the p-value\n",
        "print(\"P-value:\", p_value)"
      ],
      "metadata": {
        "id": "_EAZWec04aVa"
      },
      "execution_count": null,
      "outputs": []
    }
  ],
  "metadata": {
    "colab": {
      "provenance": [],
      "gpuType": "V100"
    },
    "kernelspec": {
      "display_name": "Python 3",
      "name": "python3"
    },
    "language_info": {
      "name": "python"
    },
    "accelerator": "GPU"
  },
  "nbformat": 4,
  "nbformat_minor": 0
}